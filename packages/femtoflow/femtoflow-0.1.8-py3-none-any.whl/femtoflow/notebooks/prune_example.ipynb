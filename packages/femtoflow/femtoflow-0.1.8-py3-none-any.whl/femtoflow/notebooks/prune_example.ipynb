{
  "cells": [
    {
      "attachments": {},
      "cell_type": "markdown",
      "metadata": {
        "id": "96EtlpLjYG9K"
      },
      "source": [
        "# Simple Pruning Example (with `model.fit()`)\n",
        "\n",
        "In this section, we will demonstrate a simple example of pruning a neural network using a custom training loop. The example will cover how to apply structured pruning to a neural network model using the `PruneHelper` class from `femtoflow`. We will then train the pruned model using a custom training loop and evaluate its performance. This example aims to provide an understanding of how to implement structured pruning in a custom training pipeline.\n"
      ]
    },
    {
      "attachments": {},
      "cell_type": "markdown",
      "metadata": {
        "id": "I-5vqxXIYG9M"
      },
      "source": [
        "## Installation"
      ]
    },
    {
      "cell_type": "code",
      "execution_count": null,
      "metadata": {
        "colab": {
          "base_uri": "https://localhost:8080/"
        },
        "id": "5UlawrAmYG9M",
        "outputId": "c712a1e3-7586-43c8-90b4-dff2f5aeffc7",
        "vscode": {
          "languageId": "shellscript"
        }
      },
      "outputs": [],
      "source": [
        "# ! pip install femtoflow --quiet"
      ]
    },
    {
      "attachments": {},
      "cell_type": "markdown",
      "metadata": {
        "id": "_RmGg1diYG9O"
      },
      "source": [
        "## Imports"
      ]
    },
    {
      "cell_type": "code",
      "execution_count": null,
      "metadata": {
        "id": "NY2fYgpeYG9O"
      },
      "outputs": [],
      "source": [
        "import tempfile\n",
        "import os\n",
        "\n",
        "import tensorflow as tf\n",
        "import tensorflow_model_optimization as tfmot\n",
        "import numpy as np\n",
        "from tensorflow import keras\n",
        "\n",
        "from femtoflow.sparsity.prune import PruneHelper\n",
        "from femtoflow.utils.plot import plot_prune_mask"
      ]
    },
    {
      "cell_type": "code",
      "execution_count": null,
      "metadata": {},
      "outputs": [],
      "source": [
        "import warnings \n",
        "warnings.filterwarnings('ignore')"
      ]
    },
    {
      "attachments": {},
      "cell_type": "markdown",
      "metadata": {
        "id": "ByjarXK_YG9P"
      },
      "source": []
    },
    {
      "attachments": {},
      "cell_type": "markdown",
      "metadata": {
        "id": "bKsQ0tXwYG9P"
      },
      "source": [
        "## MNIST Dataset Download\n",
        "\n",
        "In this example, we will use the MNIST dataset, which is a widely used dataset for handwritten digit recognition. The dataset consists of 60,000 training images and 10,000 test images, each of which is a grayscale image with a size of 28x28 pixels. Each image is labeled with the corresponding digit (0-9) that it represents.\n",
        "\n",
        "We will download the MNIST dataset, normalize the images so that each pixel value is between 0 and 1, and then prepare the dataset for training and evaluation. We will create TensorFlow Datasets (`tf.data.Dataset`) for the training and test sets, and batch the data using a batch size of 1024.\n"
      ]
    },
    {
      "cell_type": "code",
      "execution_count": null,
      "metadata": {
        "colab": {
          "base_uri": "https://localhost:8080/"
        },
        "id": "n6qH8N_3YG9P",
        "outputId": "5137b869-45ca-4526-cb29-232fa6bf5563"
      },
      "outputs": [],
      "source": [
        "# Load MNIST dataset\n",
        "mnist = keras.datasets.mnist\n",
        "(train_images, train_labels), (test_images, test_labels) = mnist.load_data()\n",
        "\n",
        "# Normalize the input image so that each pixel value is between 0 and 1.\n",
        "train_images = train_images / 255.0\n",
        "test_images = test_images / 255.0\n",
        "\n",
        "BATCH_SIZE = 1024\n",
        "train_dataset = tf.data.Dataset.from_tensor_slices((train_images, train_labels)).batch(BATCH_SIZE, drop_remainder=True)\n",
        "test_dataset  = tf.data.Dataset.from_tensor_slices((test_images, test_labels)).batch(BATCH_SIZE, drop_remainder=True)"
      ]
    },
    {
      "attachments": {},
      "cell_type": "markdown",
      "metadata": {
        "id": "kYd_c-NGYG9R"
      },
      "source": [
        "## Model Training\n",
        "\n",
        "In this section, we will define and train a convolutional neural network (CNN) for digit classification using the MNIST dataset. The model architecture consists of an input layer, a reshape layer, a Conv2D layer, a MaxPooling2D layer, a Flatten layer, and three Dense layers.\n",
        "\n",
        "### Model Definition\n",
        "\n",
        "We will use Keras Sequential API to define our model architecture. The input layer accepts grayscale images of size 28x28 pixels. The Conv2D layer applies 12 filters with a kernel size of 3x3 and ReLU activation function. The MaxPooling2D layer reduces the spatial dimensions by taking the maximum value from each 2x2 window. The Flatten layer flattens the 3D output into a 1D array. The final three Dense layers contain 100, 50, and 10 units, respectively.\n"
      ]
    },
    {
      "cell_type": "code",
      "execution_count": null,
      "metadata": {
        "id": "TIqdVG-QYG9R"
      },
      "outputs": [],
      "source": [
        "# Define the model architecture.\n",
        "model = tf.keras.Sequential([\n",
        "  tf.keras.layers.InputLayer(input_shape=(28, 28)),\n",
        "  tf.keras.layers.Reshape(target_shape=(28, 28, 1)),\n",
        "  tf.keras.layers.Conv2D(filters=12, kernel_size=(3, 3), activation='relu'),\n",
        "  tf.keras.layers.MaxPooling2D(pool_size=(2, 2)),\n",
        "  tf.keras.layers.Flatten(),\n",
        "  tf.keras.layers.Dense(100),\n",
        "  tf.keras.layers.Dense(50),\n",
        "  tf.keras.layers.Dense(10)\n",
        "])"
      ]
    },
    {
      "attachments": {},
      "cell_type": "markdown",
      "metadata": {
        "id": "SFzfzVcPYG9S"
      },
      "source": [
        "### Define Training Related Params\n",
        "\n",
        "Before we start training the model, we need to define some training-related parameters such as the optimizer, loss function, evaluation metrics, number of epochs, validation split, and batch size.\n"
      ]
    },
    {
      "cell_type": "code",
      "execution_count": null,
      "metadata": {
        "id": "5EH3Kw-lYG9S"
      },
      "outputs": [],
      "source": [
        "optimizer = 'adam'\n",
        "loss_fn = tf.keras.losses.SparseCategoricalCrossentropy(from_logits=True)\n",
        "metrics = ['accuracy']\n",
        "epochs = 2\n",
        "validation_split = 0.1\n",
        "batch_size = 512"
      ]
    },
    {
      "attachments": {},
      "cell_type": "markdown",
      "metadata": {
        "id": "PvwXndbaYG9S"
      },
      "source": [
        "### Train the Digit Classification Model\n",
        "\n",
        "After defining the model architecture and training-related parameters, we are ready to train the digit classification model. We will compile the model using the optimizer, loss function, and evaluation metrics defined earlier. Then, we will start the training process using the `fit` method.\n"
      ]
    },
    {
      "cell_type": "code",
      "execution_count": null,
      "metadata": {
        "colab": {
          "base_uri": "https://localhost:8080/"
        },
        "id": "pMcPOv52YG9S",
        "outputId": "59278099-7376-46ac-9b66-0f60039a6c04"
      },
      "outputs": [],
      "source": [
        "# Train the digit classification model\n",
        "model.compile(optimizer=optimizer, loss=loss_fn, metrics=metrics)\n",
        "\n",
        "model.fit(\n",
        "  train_images,\n",
        "  train_labels,\n",
        "  batch_size=batch_size,\n",
        "  epochs=epochs,\n",
        "  validation_split=validation_split,\n",
        ")"
      ]
    },
    {
      "cell_type": "code",
      "execution_count": null,
      "metadata": {
        "colab": {
          "base_uri": "https://localhost:8080/"
        },
        "id": "rxyjHaPyYG9T",
        "outputId": "5715e063-6147-4a8f-e3d5-c7d3e6895a0f"
      },
      "outputs": [],
      "source": [
        "_, baseline_model_accuracy = model.evaluate(test_images, test_labels, verbose=0)\n",
        "\n",
        "print('Baseline test accuracy:', baseline_model_accuracy)"
      ]
    },
    {
      "attachments": {},
      "cell_type": "markdown",
      "metadata": {
        "id": "F_IXbXz2YG9T"
      },
      "source": [
        "## Prune the Model\n",
        "\n",
        "After training the model, we will perform structured pruning to sparsify the model's weights. For this purpose, we will use the `PruneHelper` class, which provides utilities for applying structured pruning to the model.\n",
        "\n",
        "### Define the `prune_helper = PruneHelper()` Class\n",
        "\n",
        "We first define the `PruneHelper` class by specifying various parameters related to the pruning process, such as `pencil_size`, `pencil_pooling_type`, and `prune_scheduler`.\n"
      ]
    },
    {
      "cell_type": "code",
      "execution_count": null,
      "metadata": {
        "id": "dl5vNwGvYG9T"
      },
      "outputs": [],
      "source": [
        "pencil_size = 4\n",
        "pencil_pooling_type = 'AVG'\n",
        "prune_scheduler = 'linear'  # 'constant' # 'poly_decay'\n",
        "prune_helper = PruneHelper(pencil_size=pencil_size,\n",
        "                           pencil_pooling_type=pencil_pooling_type,\n",
        "                           prune_scheduler=prune_scheduler,\n",
        "                           min_parameter_thresh=0)\n",
        "                             "
      ]
    },
    {
      "attachments": {},
      "cell_type": "markdown",
      "metadata": {
        "id": "h3Ue1s_oYG9U"
      },
      "source": [
        "### Apply Pruning to the Model\n",
        "\n",
        "To apply structured pruning to the model, we will call the `PruneHelper` instance with additional parameters related to the pruning process. The `PruneHelper` class will apply pruning masks to the specified layers of the model that we want to sparsify.\n",
        "\n",
        "#### Define additional parameters for pruning\n",
        "- `layers_to_prune`: A list of Keras layer classes that we want to prune. \n",
        "  In this example, we want to prune only the dense layers, so we specify `[tf.keras.layers.Dense]`.\n",
        "- `initial_sparsity`: The initial sparsity level (fraction of weights to be set to zero) \n",
        "  at the start of the pruning process. We set it to `0.2`.\n",
        "- `final_sparsity`: The final sparsity level (fraction of weights to be set to zero) \n",
        "  at the end of the pruning process. We set it to `0.6`.\n",
        "- `begin_step`: The step at which to start pruning. We set it to `0`.\n",
        "- `end_step`: The step at which to end pruning. We calculate it as the total number \n",
        "  of training steps, which is `len(train_dataset) * epochs`.\n",
        "- `prune_frequency`: The frequency (in number of steps) at which to update the pruning mask. \n",
        "  We set it to `100`.\n",
        "- `power`: The exponent for polynomial decay of the sparsity level. This parameter is used \n",
        "  when the `prune_scheduler` is set to `'poly_decay'`. We set it to `3`.\n",
        "- `force_skip_layers`: A list of layer names to exclude from pruning. In this example, we want \n",
        "  to exclude a specific dense layer with the name `'dense_1/kernel:0'` from the pruning process, \n",
        "  so we specify `['dense_1/kernel:0']`.\n"
      ]
    },
    {
      "cell_type": "code",
      "execution_count": null,
      "metadata": {
        "colab": {
          "base_uri": "https://localhost:8080/"
        },
        "id": "fJs6qCMbYG9U",
        "outputId": "9e3ae9c0-83f5-4e4a-de86-57133fb23f84"
      },
      "outputs": [],
      "source": [
        "\"\"\"\n",
        "Define additional parameters for pruning\n",
        "\"\"\"\n",
        "layers_to_prune = [tf.keras.layers.Dense] # Layers we want to prune \n",
        "initial_sparsity = 0.2\n",
        "final_sparsity = 0.6\n",
        "begin_step = 0\n",
        "end_step = len(train_dataset)*epochs # Let function implicitly find end_step\n",
        "prune_frequency = 100\n",
        "power = 3\n",
        "\n",
        "model_to_prune = prune_helper(model=model,\n",
        "                            layers_to_prune=layers_to_prune,\n",
        "                            initial_sparsity=initial_sparsity,\n",
        "                            final_sparsity=final_sparsity,\n",
        "                            begin_step=begin_step,\n",
        "                            end_step=end_step,\n",
        "                            prune_frequency=prune_frequency,\n",
        "                            power=power,\n",
        "                            force_skip_layers=['dense_1/kernel:0'])"
      ]
    },
    {
      "attachments": {},
      "cell_type": "markdown",
      "metadata": {
        "id": "0avnztj5YG9U"
      },
      "source": [
        "#### Note how Pruning Wrappers are applied to layers to be pruned."
      ]
    },
    {
      "cell_type": "code",
      "execution_count": null,
      "metadata": {
        "colab": {
          "base_uri": "https://localhost:8080/"
        },
        "id": "mQ7VxUNIYG9U",
        "outputId": "33c80bca-85cd-4d85-ad54-3c30b41ddc6c"
      },
      "outputs": [],
      "source": [
        "model_to_prune.layers"
      ]
    },
    {
      "attachments": {},
      "cell_type": "markdown",
      "metadata": {
        "id": "vKCS32kwYG9U"
      },
      "source": [
        "### Train the Model with Sparsity\n",
        "\n",
        "After applying the pruning wrappers to the model, we proceed with training the model to introduce sparsity into the weights. During training, the sparsity level of the weights is gradually increased according to the pruning schedule defined earlier.\n",
        "\n",
        "To achieve this, we use the `tfmot.sparsity.keras.UpdatePruningStep()` callback as part of the training process. This callback is responsible for updating the pruning mask at regular intervals, resulting in a gradual increase in sparsity.\n",
        "\n",
        "We compile the model and use the `.fit()` function to start training with sparsity. The `UpdatePruningStep()` callback is included in the list of callbacks for the `.fit()` function.\n",
        "\n",
        "During training, the pruning mask is updated based on the prune_frequency parameter, and the sparsity level of the weights is progressively increased. At the end of training, we obtain a pruned model with sparse weights while aiming to maintain a similar level of accuracy as the original model.\n",
        "\n"
      ]
    },
    {
      "cell_type": "code",
      "execution_count": null,
      "metadata": {
        "colab": {
          "base_uri": "https://localhost:8080/"
        },
        "id": "U__gNUPIYG9U",
        "outputId": "3417badb-1fb8-4137-93d1-2121e953b844"
      },
      "outputs": [],
      "source": [
        "model_to_prune.compile(optimizer=optimizer, loss=loss_fn, metrics=metrics)\n",
        "model_to_prune.fit(train_dataset,\n",
        "                   epochs=epochs, \n",
        "                   callbacks=[tfmot.sparsity.keras.UpdatePruningStep()])"
      ]
    },
    {
      "cell_type": "code",
      "execution_count": null,
      "metadata": {
        "colab": {
          "base_uri": "https://localhost:8080/"
        },
        "id": "gxSCOUUpYG9V",
        "outputId": "4dd59086-4da9-4cca-fecd-fe1b080f3eb7"
      },
      "outputs": [],
      "source": [
        "_, prune_accuracy = model_to_prune.evaluate(\n",
        "   test_images, test_labels, verbose=0)\n",
        "\n",
        "print('Pruned test accuracy:', prune_accuracy)"
      ]
    },
    {
      "attachments": {},
      "cell_type": "markdown",
      "metadata": {
        "id": "iTEVBvLqYG9V"
      },
      "source": [
        "### Apply `tfmot.sparsity.keras.strip_pruning()` to Remove Sparse Layer Wrappers and Get the Model with Sparse Weights (Prune Masks Applied)\n",
        "\n",
        "After pruning, the pruned model (`model_to_prune`) contains a `tfmot.sparsity.keras.prune_low_magnitude()` wrapper around the layers that were pruned. To obtain the final pruned model with sparse weights, we need to remove this wrapper.\n",
        "\n",
        "The `strip_pruning()` function is used for this purpose. It removes the pruning wrapper and returns the pruned model with the final pruning mask applied to the weights, resulting in the desired sparse weights.\n"
      ]
    },
    {
      "cell_type": "code",
      "execution_count": null,
      "metadata": {
        "id": "I-7QlIGvYG9V"
      },
      "outputs": [],
      "source": [
        "model_pruned_stripped = tfmot.sparsity.keras.strip_pruning(model_to_prune)"
      ]
    },
    {
      "cell_type": "code",
      "execution_count": null,
      "metadata": {
        "colab": {
          "base_uri": "https://localhost:8080/"
        },
        "id": "CUhthe5mYG9V",
        "outputId": "fbd2300c-5b3f-4b30-fae9-57722269a328"
      },
      "outputs": [],
      "source": [
        "# Notice how the Pruning Wrappers have been removed again!\n",
        "model_pruned_stripped.layers"
      ]
    },
    {
      "attachments": {},
      "cell_type": "markdown",
      "metadata": {
        "id": "0cx9Vj-5YG9V"
      },
      "source": [
        "## Visualize Pruned Weights\n",
        "\n",
        "After the model has been pruned, it is helpful to visualize the pruned weights to examine the sparsity pattern achieved during the pruning process. This can provide insights into the impact of pruning on the model's internal structure.\n",
        "\n",
        "In this example, we demonstrate visualizing the pruned weights of the model. We also highlight the fact that setting `force_skip_layers=['dense_1/kernel:0']` in the pruning configuration led to the exclusion of the `dense_1/kernel:0` layer from pruning, resulting in no sparsity in that layer's weights.\n"
      ]
    },
    {
      "cell_type": "code",
      "execution_count": null,
      "metadata": {
        "colab": {
          "base_uri": "https://localhost:8080/"
        },
        "id": "pd0SCCLZYG9V",
        "outputId": "4cb57f58-a07a-496d-981b-34af62ed975c"
      },
      "outputs": [],
      "source": [
        "trainable_weights_dict = {weight.name: weight.numpy() for weight in model_pruned_stripped.trainable_weights}\n",
        "trainable_weights_dict.keys()"
      ]
    },
    {
      "cell_type": "code",
      "execution_count": null,
      "metadata": {
        "colab": {
          "base_uri": "https://localhost:8080/",
          "height": 1000
        },
        "id": "DHPz-DlvYG9W",
        "outputId": "5aa01c53-84a6-40d0-8dd6-abe49cb7a814"
      },
      "outputs": [],
      "source": [
        "\n",
        "base_path = 'prune_using_fit'\n",
        "os.makedirs(base_path, exist_ok=True)\n",
        "max_len_axis = 24\n",
        "for layer_name, layer in trainable_weights_dict.items():\n",
        "    title = f\"{layer_name}-shape-opxip-{layer.T.shape}\"\n",
        "    save_path = f\"{base_path}/{layer_name.replace('/', '-')}-prune-mask.png\"\n",
        "    # layer default -> IP_CHANNELS x OP_CHANNELS (x.W)\n",
        "    plot_prune_mask(data=layer, axis_stride=pencil_size, max_xlen=max_len_axis, max_ylen=max_len_axis, title=title, save_path=save_path)"
      ]
    }
  ],
  "metadata": {
    "colab": {
      "provenance": []
    },
    "kernelspec": {
      "display_name": "Python 3",
      "language": "python",
      "name": "python3"
    },
    "language_info": {
      "codemirror_mode": {
        "name": "ipython",
        "version": 3
      },
      "file_extension": ".py",
      "mimetype": "text/x-python",
      "name": "python",
      "nbconvert_exporter": "python",
      "pygments_lexer": "ipython3",
      "version": "3.8.10"
    },
    "orig_nbformat": 4,
    "vscode": {
      "interpreter": {
        "hash": "ad41ba704b490a86eec1bcebab6abb4e034d27c24fdf165a52d45ebef6dd8584"
      }
    }
  },
  "nbformat": 4,
  "nbformat_minor": 0
}
