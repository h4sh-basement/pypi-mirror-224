{
 "cells": [
  {
   "cell_type": "code",
   "execution_count": 1,
   "metadata": {},
   "outputs": [],
   "source": [
    "from bw_recipe_2016 import (\n",
    "    MineralResourceScarcity,\n",
    "    get_biosphere_database, \n",
    "    extract_recipe,\n",
    ")"
   ]
  },
  {
   "cell_type": "code",
   "execution_count": 2,
   "metadata": {},
   "outputs": [],
   "source": [
    "data = extract_recipe()[19]"
   ]
  },
  {
   "cell_type": "code",
   "execution_count": 3,
   "metadata": {},
   "outputs": [],
   "source": [
    "biosphere = get_biosphere_database()"
   ]
  },
  {
   "cell_type": "code",
   "execution_count": 9,
   "metadata": {
    "collapsed": true
   },
   "outputs": [
    {
     "data": {
      "text/plain": [
       "['Actinium, in ground' (kilogram, None, ('natural resource', 'in ground')),\n",
       " 'Aluminium, 24% in bauxite, 11% in crude ore, in ground' (kilogram, None, ('natural resource', 'in ground')),\n",
       " 'Aluminium, in ground' (kilogram, None, ('natural resource', 'in ground')),\n",
       " 'Anhydrite, in ground' (kilogram, None, ('natural resource', 'in ground')),\n",
       " 'Antimony, in ground' (kilogram, None, ('natural resource', 'in ground')),\n",
       " 'Arsenic, in ground' (kilogram, None, ('natural resource', 'in ground')),\n",
       " 'Astatine, in ground' (kilogram, None, ('natural resource', 'in ground')),\n",
       " 'Barite, 15% in crude ore, in ground' (kilogram, None, ('natural resource', 'in ground')),\n",
       " 'Barium, in ground' (kilogram, None, ('natural resource', 'in ground')),\n",
       " 'Basalt, in ground' (kilogram, None, ('natural resource', 'in ground')),\n",
       " 'Beryllium, in ground' (kilogram, None, ('natural resource', 'in ground')),\n",
       " 'Bismuth, in ground' (kilogram, None, ('natural resource', 'in ground')),\n",
       " 'Borax, in ground' (kilogram, None, ('natural resource', 'in ground')),\n",
       " 'Boron, in ground' (kilogram, None, ('natural resource', 'in ground')),\n",
       " 'Cadmium, 0.30% in sulfide, Cd 0.18%, Pb, Zn, Ag, In, in ground' (kilogram, None, ('natural resource', 'in ground')),\n",
       " 'Cadmium, in ground' (kilogram, None, ('natural resource', 'in ground')),\n",
       " 'Caesium, in ground' (kilogram, None, ('natural resource', 'in ground')),\n",
       " 'Calcite, in ground' (kilogram, None, ('natural resource', 'in ground')),\n",
       " 'Calcium, in ground' (kilogram, None, ('natural resource', 'in ground')),\n",
       " 'Carbon, organic, in soil or biomass stock' (kilogram, None, ('natural resource', 'in ground')),\n",
       " 'Cerium, 24% in bastnasite, 2.4% in crude ore, in ground' (kilogram, None, ('natural resource', 'in ground')),\n",
       " 'Cerium, in ground' (kilogram, None, ('natural resource', 'in ground')),\n",
       " 'Chromium, 25.5% in chromite, 11.6% in crude ore, in ground' (kilogram, None, ('natural resource', 'in ground')),\n",
       " 'Chromium, in ground' (kilogram, None, ('natural resource', 'in ground')),\n",
       " 'Chrysotile, in ground' (kilogram, None, ('natural resource', 'in ground')),\n",
       " 'Cinnabar, in ground' (kilogram, None, ('natural resource', 'in ground')),\n",
       " 'Clay, bentonite, in ground' (kilogram, None, ('natural resource', 'in ground')),\n",
       " 'Clay, unspecified, in ground' (kilogram, None, ('natural resource', 'in ground')),\n",
       " 'Coal, brown, in ground' (kilogram, None, ('natural resource', 'in ground')),\n",
       " 'Coal, hard, unspecified, in ground' (kilogram, None, ('natural resource', 'in ground')),\n",
       " 'Cobalt, Co 5.0E-2%, in mixed ore, in ground' (kilogram, None, ('natural resource', 'in ground')),\n",
       " 'Cobalt, in ground' (kilogram, None, ('natural resource', 'in ground')),\n",
       " 'Colemanite, in ground' (kilogram, None, ('natural resource', 'in ground')),\n",
       " 'Copper, 0.52% in sulfide, Cu 0.27% and Mo 8.2E-3% in crude ore, in ground' (kilogram, None, ('natural resource', 'in ground')),\n",
       " 'Copper, 0.59% in sulfide, Cu 0.22% and Mo 8.2E-3% in crude ore, in ground' (kilogram, None, ('natural resource', 'in ground')),\n",
       " 'Copper, 0.97% in sulfide, Cu 0.36% and Mo 4.1E-2% in crude ore, in ground' (kilogram, None, ('natural resource', 'in ground')),\n",
       " 'Copper, 0.99% in sulfide, Cu 0.36% and Mo 8.2E-3% in crude ore, in ground' (kilogram, None, ('natural resource', 'in ground')),\n",
       " 'Copper, 1.13% in sulfide, Cu 0.76% and Ni 0.76% in crude ore, in ground' (kilogram, None, ('natural resource', 'in ground')),\n",
       " 'Copper, 1.18% in sulfide, Cu 0.39% and Mo 8.2E-3% in crude ore, in ground' (kilogram, None, ('natural resource', 'in ground')),\n",
       " 'Copper, 1.25% in sulfide, Cu 0.24% and Zn 0,1% in crude ore, in ground' (kilogram, None, ('natural resource', 'in ground')),\n",
       " 'Copper, 1.42% in sulfide, Cu 0.81% and Mo 8.2E-3% in crude ore, in ground' (kilogram, None, ('natural resource', 'in ground')),\n",
       " 'Copper, 2.19% in sulfide, Cu 1.83% and Mo 8.2E-3% in crude ore, in ground' (kilogram, None, ('natural resource', 'in ground')),\n",
       " 'Copper, Cu 0.2%, in mixed ore, in ground' (kilogram, None, ('natural resource', 'in ground')),\n",
       " 'Copper, Cu 0.38%, in mixed ore, in ground' (kilogram, None, ('natural resource', 'in ground')),\n",
       " 'Copper, Cu 6.8E-1%, in mixed ore, in ground' (kilogram, None, ('natural resource', 'in ground')),\n",
       " 'Copper, in ground' (kilogram, None, ('natural resource', 'in ground')),\n",
       " 'Cu, Cu 3.2E+0%, Pt 2.5E-4%, Pd 7.3E-4%, Rh 2.0E-5%, Ni 2.3E+0% in ore, in ground' (kilogram, None, ('natural resource', 'in ground')),\n",
       " 'Cu, Cu 5.2E-2%, Pt 4.8E-4%, Pd 2.0E-4%, Rh 2.4E-5%, Ni 3.7E-2% in ore, in ground' (kilogram, None, ('natural resource', 'in ground')),\n",
       " 'Diatomite, in ground' (kilogram, None, ('natural resource', 'in ground')),\n",
       " 'Dolomite, in ground' (kilogram, None, ('natural resource', 'in ground')),\n",
       " 'Dysprosium, in ground' (kilogram, None, ('natural resource', 'in ground')),\n",
       " 'Energy, geothermal, converted' (megajoule, None, ('natural resource', 'in ground')),\n",
       " 'Erbium, in ground' (kilogram, None, ('natural resource', 'in ground')),\n",
       " 'Europium, 0.06% in bastnasite, 0.006% in crude ore, in ground' (kilogram, None, ('natural resource', 'in ground')),\n",
       " 'Europium, in ground' (kilogram, None, ('natural resource', 'in ground')),\n",
       " 'Feldspar, in ground' (kilogram, None, ('natural resource', 'in ground')),\n",
       " 'Fluorine, 4.5% in apatite, 1% in crude ore, in ground' (kilogram, None, ('natural resource', 'in ground')),\n",
       " 'Fluorine, 4.5% in apatite, 3% in crude ore, in ground' (kilogram, None, ('natural resource', 'in ground')),\n",
       " 'Fluorine, in ground' (kilogram, None, ('natural resource', 'in ground')),\n",
       " 'Fluorspar, 92%, in ground' (kilogram, None, ('natural resource', 'in ground')),\n",
       " 'Fluorspar, in ground' (kilogram, None, ('natural resource', 'in ground')),\n",
       " 'Gadolinium, 0.15% in bastnasite, 0.015% in crude ore, in ground' (kilogram, None, ('natural resource', 'in ground')),\n",
       " 'Gadolinium, in ground' (kilogram, None, ('natural resource', 'in ground')),\n",
       " 'Gallium, 0.014% in bauxite, in ground' (kilogram, None, ('natural resource', 'in ground')),\n",
       " 'Gallium, in ground' (kilogram, None, ('natural resource', 'in ground')),\n",
       " 'Gangue, bauxite, in ground' (kilogram, None, ('natural resource', 'in ground')),\n",
       " 'Gangue, in ground' (kilogram, None, ('natural resource', 'in ground')),\n",
       " 'Gas, mine, off-gas, process, coal mining' (cubic meter, None, ('natural resource', 'in ground')),\n",
       " 'Gas, natural, in ground' (cubic meter, None, ('natural resource', 'in ground')),\n",
       " 'Germanium, in ground' (kilogram, None, ('natural resource', 'in ground')),\n",
       " 'Gold, Au 1.0E-7%, in mixed ore, in ground' (kilogram, None, ('natural resource', 'in ground')),\n",
       " 'Gold, Au 1.1E-4%, Ag 4.2E-3%, in ore, in ground' (kilogram, None, ('natural resource', 'in ground')),\n",
       " 'Gold, Au 1.3E-4%, Ag 4.6E-5%, in ore, in ground' (kilogram, None, ('natural resource', 'in ground')),\n",
       " 'Gold, Au 1.4E-4%, in ore, in ground' (kilogram, None, ('natural resource', 'in ground')),\n",
       " 'Gold, Au 1.8E-4%, in mixed ore, in ground' (kilogram, None, ('natural resource', 'in ground')),\n",
       " 'Gold, Au 2.1E-4%, Ag 2.1E-4%, in ore, in ground' (kilogram, None, ('natural resource', 'in ground')),\n",
       " 'Gold, Au 4.3E-4%, in ore, in ground' (kilogram, None, ('natural resource', 'in ground')),\n",
       " 'Gold, Au 4.9E-5%, in ore, in ground' (kilogram, None, ('natural resource', 'in ground')),\n",
       " 'Gold, Au 5.4E-4%, Ag 1.5E-5%, in ore, in ground' (kilogram, None, ('natural resource', 'in ground')),\n",
       " 'Gold, Au 6.7E-4%, in ore, in ground' (kilogram, None, ('natural resource', 'in ground')),\n",
       " 'Gold, Au 6.8E-4%, Ag 1.5E-4%, in ore, in ground' (kilogram, None, ('natural resource', 'in ground')),\n",
       " 'Gold, Au 7.1E-4%, in ore, in ground' (kilogram, None, ('natural resource', 'in ground')),\n",
       " 'Gold, Au 9.7E-4%, in mixed ore, in ground' (kilogram, None, ('natural resource', 'in ground')),\n",
       " 'Gold, Au 9.7E-5%, Ag 7.6E-5%, in ore, in ground' (kilogram, None, ('natural resource', 'in ground')),\n",
       " 'Gold, in ground' (kilogram, None, ('natural resource', 'in ground')),\n",
       " 'Granite, in ground' (kilogram, None, ('natural resource', 'in ground')),\n",
       " 'Gravel, in ground' (kilogram, None, ('natural resource', 'in ground')),\n",
       " 'Gypsum, in ground' (kilogram, None, ('natural resource', 'in ground')),\n",
       " 'Hafnium, in ground' (kilogram, None, ('natural resource', 'in ground')),\n",
       " 'Helium, 0.08% in natural gas, in ground' (kilogram, None, ('natural resource', 'in ground')),\n",
       " 'Helium, in natural gas, in ground' (kilogram, None, ('natural resource', 'in ground')),\n",
       " 'Holmium, in ground' (kilogram, None, ('natural resource', 'in ground')),\n",
       " 'Indium, 0.005% in sulfide, In 0.003%, Pb, Zn, Ag, Cd, in ground' (kilogram, None, ('natural resource', 'in ground')),\n",
       " 'Indium, in ground' (kilogram, None, ('natural resource', 'in ground')),\n",
       " 'Iridium, in ground' (kilogram, None, ('natural resource', 'in ground')),\n",
       " 'Iron, 46% in ore, 25% in crude ore, in ground' (kilogram, None, ('natural resource', 'in ground')),\n",
       " 'Iron, 72% in magnetite, 14% in crude ore, in ground' (kilogram, None, ('natural resource', 'in ground')),\n",
       " 'Iron, in ground' (kilogram, None, ('natural resource', 'in ground')),\n",
       " 'Kaolinite, 24% in crude ore, in ground' (kilogram, None, ('natural resource', 'in ground')),\n",
       " 'Kaolinite, in ground' (kilogram, None, ('natural resource', 'in ground')),\n",
       " 'Kieserite, 25% in crude ore, in ground' (kilogram, None, ('natural resource', 'in ground')),\n",
       " 'Kieserite, in ground' (kilogram, None, ('natural resource', 'in ground')),\n",
       " 'Lanthanum, 7.2% in bastnasite, 0.72% in crude ore, in ground' (kilogram, None, ('natural resource', 'in ground')),\n",
       " 'Lanthanum, in ground' (kilogram, None, ('natural resource', 'in ground')),\n",
       " 'Laterite, in ground' (kilogram, None, ('natural resource', 'in ground')),\n",
       " 'Lead, 5.0% in sulfide, Pb 3.0%, Zn, Ag, Cd, In, in ground' (kilogram, None, ('natural resource', 'in ground')),\n",
       " 'Lead, Pb 0.014%, in mixed ore, in ground' (kilogram, None, ('natural resource', 'in ground')),\n",
       " 'Lead, Pb 3.6E-1%, in mixed ore, in ground' (kilogram, None, ('natural resource', 'in ground')),\n",
       " 'Lead, in ground' (kilogram, None, ('natural resource', 'in ground')),\n",
       " 'Lithium, 0.15% in brine, in ground' (kilogram, None, ('natural resource', 'in ground')),\n",
       " 'Lithium, in ground' (kilogram, None, ('natural resource', 'in ground')),\n",
       " 'Lutetium, in ground' (kilogram, None, ('natural resource', 'in ground')),\n",
       " 'Magnesite, 60% in crude ore, in ground' (kilogram, None, ('natural resource', 'in ground')),\n",
       " 'Magnesite, in ground' (kilogram, None, ('natural resource', 'in ground')),\n",
       " 'Magnesium, in ground' (kilogram, None, ('natural resource', 'in ground')),\n",
       " 'Manganese, 35.7% in sedimentary deposit, 14.2% in crude ore, in ground' (kilogram, None, ('natural resource', 'in ground')),\n",
       " 'Manganese, in ground' (kilogram, None, ('natural resource', 'in ground')),\n",
       " 'Mercury, in ground' (kilogram, None, ('natural resource', 'in ground')),\n",
       " 'Metamorphous rock, graphite containing, in ground' (kilogram, None, ('natural resource', 'in ground')),\n",
       " 'Molybdenum, 0.010% in sulfide, Mo 8.2E-3% and Cu 1.83% in crude ore, in ground' (kilogram, None, ('natural resource', 'in ground')),\n",
       " 'Molybdenum, 0.014% in sulfide, Mo 8.2E-3% and Cu 0.81% in crude ore, in ground' (kilogram, None, ('natural resource', 'in ground')),\n",
       " 'Molybdenum, 0.016% in sulfide, Mo 8.2E-3% and Cu 0.27% in crude ore, in ground' (kilogram, None, ('natural resource', 'in ground')),\n",
       " 'Molybdenum, 0.022% in sulfide, Mo 8.2E-3% and Cu 0.22% in crude ore, in ground' (kilogram, None, ('natural resource', 'in ground')),\n",
       " 'Molybdenum, 0.022% in sulfide, Mo 8.2E-3% and Cu 0.36% in crude ore, in ground' (kilogram, None, ('natural resource', 'in ground')),\n",
       " 'Molybdenum, 0.025% in sulfide, Mo 8.2E-3% and Cu 0.39% in crude ore, in ground' (kilogram, None, ('natural resource', 'in ground')),\n",
       " 'Molybdenum, 0.11% in sulfide, Mo 4.1E-2% and Cu 0.36% in crude ore, in ground' (kilogram, None, ('natural resource', 'in ground')),\n",
       " 'Molybdenum, in ground' (kilogram, None, ('natural resource', 'in ground')),\n",
       " 'Neodymium, 4% in bastnasite, 0.4% in crude ore, in ground' (kilogram, None, ('natural resource', 'in ground')),\n",
       " 'Neodymium, in ground' (kilogram, None, ('natural resource', 'in ground')),\n",
       " 'Ni, Ni 2.3E+0%, Pt 2.5E-4%, Pd 7.3E-4%, Rh 2.0E-5%, Cu 3.2E+0% in ore, in ground' (kilogram, None, ('natural resource', 'in ground')),\n",
       " 'Ni, Ni 3.7E-2%, Pt 4.8E-4%, Pd 2.0E-4%, Rh 2.4E-5%, Cu 5.2E-2% in ore, in ground' (kilogram, None, ('natural resource', 'in ground')),\n",
       " 'Nickel, 1.13% in sulfide, Ni 0.76% and Cu 0.76% in crude ore, in ground' (kilogram, None, ('natural resource', 'in ground')),\n",
       " 'Nickel, 1.98% in silicates, 1.04% in crude ore, in ground' (kilogram, None, ('natural resource', 'in ground')),\n",
       " 'Nickel, Ni 2.5E+0%, in mixed ore, in ground' (kilogram, None, ('natural resource', 'in ground')),\n",
       " 'Nickel, in ground' (kilogram, None, ('natural resource', 'in ground')),\n",
       " 'Niobium, in ground' (kilogram, None, ('natural resource', 'in ground')),\n",
       " 'Oil, crude, in ground' (kilogram, None, ('natural resource', 'in ground')),\n",
       " 'Olivine, in ground' (kilogram, None, ('natural resource', 'in ground')),\n",
       " 'Osmium, in ground' (kilogram, None, ('natural resource', 'in ground')),\n",
       " 'Palladium, Pd 1.6E-6%, in mixed ore, in ground' (kilogram, None, ('natural resource', 'in ground')),\n",
       " 'Palladium, in ground' (kilogram, None, ('natural resource', 'in ground')),\n",
       " 'Pd, Pd 2.0E-4%, Pt 4.8E-4%, Rh 2.4E-5%, Ni 3.7E-2%, Cu 5.2E-2% in ore, in ground' (kilogram, None, ('natural resource', 'in ground')),\n",
       " 'Pd, Pd 7.3E-4%, Pt 2.5E-4%, Rh 2.0E-5%, Ni 2.3E+0%, Cu 3.2E+0% in ore, in ground' (kilogram, None, ('natural resource', 'in ground')),\n",
       " 'Perlite, in ground' (kilogram, None, ('natural resource', 'in ground')),\n",
       " 'Phosphorus, 18% in apatite, 12% in crude ore, in ground' (kilogram, None, ('natural resource', 'in ground')),\n",
       " 'Phosphorus, 18% in apatite, 4% in crude ore, in ground' (kilogram, None, ('natural resource', 'in ground')),\n",
       " 'Phosphorus, in ground' (kilogram, None, ('natural resource', 'in ground')),\n",
       " 'Platinum, Pt 4.7E-7%, in mixed ore, in ground' (kilogram, None, ('natural resource', 'in ground')),\n",
       " 'Platinum, in ground' (kilogram, None, ('natural resource', 'in ground')),\n",
       " 'Polonium, in ground' (kilogram, None, ('natural resource', 'in ground')),\n",
       " 'Potassium, in ground' (kilogram, None, ('natural resource', 'in ground')),\n",
       " 'Praseodymium, 0.42% in bastnasite, 0.042% in crude ore, in ground' (kilogram, None, ('natural resource', 'in ground')),\n",
       " 'Praseodymium, in ground' (kilogram, None, ('natural resource', 'in ground')),\n",
       " 'Protactinium, in ground' (kilogram, None, ('natural resource', 'in ground')),\n",
       " 'Pt, Pt 2.5E-4%, Pd 7.3E-4%, Rh 2.0E-5%, Ni 2.3E+0%, Cu 3.2E+0% in ore, in ground' (kilogram, None, ('natural resource', 'in ground')),\n",
       " 'Pt, Pt 4.8E-4%, Pd 2.0E-4%, Rh 2.4E-5%, Ni 3.7E-2%, Cu 5.2E-2% in ore, in ground' (kilogram, None, ('natural resource', 'in ground')),\n",
       " 'Pumice, in ground' (kilogram, None, ('natural resource', 'in ground')),\n",
       " 'Pyrite, in ground' (kilogram, None, ('natural resource', 'in ground')),\n",
       " 'Pyrolusite, in ground' (kilogram, None, ('natural resource', 'in ground')),\n",
       " 'Radium, in ground' (kilogram, None, ('natural resource', 'in ground')),\n",
       " 'Rh, Rh 2.0E-5%, Pt 2.5E-4%, Pd 7.3E-4%, Ni 2.3E+0%, Cu 3.2E+0% in ore, in ground' (kilogram, None, ('natural resource', 'in ground')),\n",
       " 'Rh, Rh 2.4E-5%, Pt 4.8E-4%, Pd 2.0E-4%, Ni 3.7E-2%, Cu 5.2E-2% in ore, in ground' (kilogram, None, ('natural resource', 'in ground')),\n",
       " 'Rhenium, in crude ore, in ground' (kilogram, None, ('natural resource', 'in ground')),\n",
       " 'Rhenium, in ground' (kilogram, None, ('natural resource', 'in ground')),\n",
       " 'Rhodium, Rh 1.6E-7%, in mixed ore, in ground' (kilogram, None, ('natural resource', 'in ground')),\n",
       " 'Rhodium, in ground' (kilogram, None, ('natural resource', 'in ground')),\n",
       " 'Rubidium, in ground' (kilogram, None, ('natural resource', 'in ground')),\n",
       " 'Ruthenium, in ground' (kilogram, None, ('natural resource', 'in ground')),\n",
       " 'Samarium, 0.3% in bastnasite, 0.03% in crude ore, in ground' (kilogram, None, ('natural resource', 'in ground')),\n",
       " 'Samarium, in ground' (kilogram, None, ('natural resource', 'in ground')),\n",
       " 'Sand, unspecified, in ground' (kilogram, None, ('natural resource', 'in ground')),\n",
       " 'Scandium, in ground' (kilogram, None, ('natural resource', 'in ground')),\n",
       " 'Selenium, in ground' (kilogram, None, ('natural resource', 'in ground')),\n",
       " 'Shale, in ground' (kilogram, None, ('natural resource', 'in ground')),\n",
       " 'Silicon, in ground' (kilogram, None, ('natural resource', 'in ground')),\n",
       " 'Silver, 0.007% in sulfide, Ag 0.004%, Pb, Zn, Cd, In, in ground' (kilogram, None, ('natural resource', 'in ground')),\n",
       " 'Silver, 0.01% in crude ore, in ground' (kilogram, None, ('natural resource', 'in ground')),\n",
       " 'Silver, 3.2ppm in sulfide, Ag 1.2ppm, Cu and Te, in crude ore, in ground' (kilogram, None, ('natural resource', 'in ground')),\n",
       " 'Silver, Ag 1.5E-4%, Au 6.8E-4%, in ore, in ground' (kilogram, None, ('natural resource', 'in ground')),\n",
       " 'Silver, Ag 1.5E-5%, Au 5.4E-4%, in ore, in ground' (kilogram, None, ('natural resource', 'in ground')),\n",
       " 'Silver, Ag 1.8E-6%, in mixed ore, in ground' (kilogram, None, ('natural resource', 'in ground')),\n",
       " 'Silver, Ag 2.1E-4%, Au 2.1E-4%, in ore, in ground' (kilogram, None, ('natural resource', 'in ground')),\n",
       " 'Silver, Ag 4.2E-3%, Au 1.1E-4%, in ore, in ground' (kilogram, None, ('natural resource', 'in ground')),\n",
       " 'Silver, Ag 4.6E-5%, Au 1.3E-4%, in ore, in ground' (kilogram, None, ('natural resource', 'in ground')),\n",
       " 'Silver, Ag 5.4E-3%, in mixed ore, in ground' (kilogram, None, ('natural resource', 'in ground')),\n",
       " 'Silver, Ag 7.6E-5%, Au 9.7E-5%, in ore, in ground' (kilogram, None, ('natural resource', 'in ground')),\n",
       " 'Silver, Ag 9.7E-4%, in mixed ore, in ground' (kilogram, None, ('natural resource', 'in ground')),\n",
       " 'Silver, in ground' (kilogram, None, ('natural resource', 'in ground')),\n",
       " 'Sodium chloride, in ground' (kilogram, None, ('natural resource', 'in ground')),\n",
       " 'Sodium nitrate, in ground' (kilogram, None, ('natural resource', 'in ground')),\n",
       " 'Sodium sulphate, various forms, in ground' (kilogram, None, ('natural resource', 'in ground')),\n",
       " 'Sodium, in ground' (kilogram, None, ('natural resource', 'in ground')),\n",
       " 'Spodumene, in ground' (kilogram, None, ('natural resource', 'in ground')),\n",
       " 'Steatite, in ground' (kilogram, None, ('natural resource', 'in ground')),\n",
       " 'Stibnite, in ground' (kilogram, None, ('natural resource', 'in ground')),\n",
       " 'Strontium, in ground' (kilogram, None, ('natural resource', 'in ground')),\n",
       " 'Sulfur, in ground' (kilogram, None, ('natural resource', 'in ground')),\n",
       " 'Sylvite, 25 % in sylvinite, in ground' (kilogram, None, ('natural resource', 'in ground')),\n",
       " 'Sylvite, in ground' (kilogram, None, ('natural resource', 'in ground')),\n",
       " 'Talc, in ground' (kilogram, None, ('natural resource', 'in ground')),\n",
       " 'Tantalum, 81.9% in tantalite, 1.6E-4% in crude ore, in ground' (kilogram, None, ('natural resource', 'in ground')),\n",
       " 'Tantalum, in ground' (kilogram, None, ('natural resource', 'in ground')),\n",
       " 'Tellurium, 0.5ppm in sulfide, Te 0.2ppm, Cu and Ag, in crude ore, in ground' (kilogram, None, ('natural resource', 'in ground')),\n",
       " 'Tellurium, in ground' (kilogram, None, ('natural resource', 'in ground')),\n",
       " 'Terbium, in ground' (kilogram, None, ('natural resource', 'in ground')),\n",
       " 'Thallium, in ground' (kilogram, None, ('natural resource', 'in ground')),\n",
       " 'Thorium, in ground' (kilogram, None, ('natural resource', 'in ground')),\n",
       " 'Thulium, in ground' (kilogram, None, ('natural resource', 'in ground')),\n",
       " 'TiO2, 54% in ilmenite, 18% in crude ore, in ground' (kilogram, None, ('natural resource', 'in ground')),\n",
       " 'TiO2, 54% in ilmenite, 2.6% in crude ore, in ground' (kilogram, None, ('natural resource', 'in ground')),\n",
       " 'TiO2, 95% in rutile, 0.40% in crude ore, in ground' (kilogram, None, ('natural resource', 'in ground')),\n",
       " 'Tin, 79% in cassiterite, 0.1% in crude ore, in ground' (kilogram, None, ('natural resource', 'in ground')),\n",
       " 'Tin, in ground' (kilogram, None, ('natural resource', 'in ground')),\n",
       " 'Titanium, in ground' (kilogram, None, ('natural resource', 'in ground')),\n",
       " 'Tungsten, in ground' (kilogram, None, ('natural resource', 'in ground')),\n",
       " 'Ulexite, in ground' (kilogram, None, ('natural resource', 'in ground')),\n",
       " 'Uranium, in ground' (kilogram, None, ('natural resource', 'in ground')),\n",
       " 'Vanadium, in ground' (kilogram, None, ('natural resource', 'in ground')),\n",
       " 'Vermiculite, in ground' (kilogram, None, ('natural resource', 'in ground')),\n",
       " 'Volume occupied, final repository for low-active radioactive waste' (cubic meter, None, ('natural resource', 'in ground')),\n",
       " 'Volume occupied, final repository for radioactive waste' (cubic meter, None, ('natural resource', 'in ground')),\n",
       " 'Volume occupied, underground deposit' (cubic meter, None, ('natural resource', 'in ground')),\n",
       " 'Water, unspecified natural origin' (cubic meter, None, ('natural resource', 'in ground')),\n",
       " 'Ytterbium, in ground' (kilogram, None, ('natural resource', 'in ground')),\n",
       " 'Yttrium, in ground' (kilogram, None, ('natural resource', 'in ground')),\n",
       " 'Zinc, 9.0% in sulfide, Zn 5.3%, Pb, Ag, Cd, In, in ground' (kilogram, None, ('natural resource', 'in ground')),\n",
       " 'Zinc, Zn 0.63%, in mixed ore, in ground' (kilogram, None, ('natural resource', 'in ground')),\n",
       " 'Zinc, Zn 3.1%, in mixed ore, in ground' (kilogram, None, ('natural resource', 'in ground')),\n",
       " 'Zinc, in ground' (kilogram, None, ('natural resource', 'in ground')),\n",
       " 'Zirconia, as baddeleyite, in ground' (kilogram, None, ('natural resource', 'in ground')),\n",
       " 'Zirconium, 50% in zircon, 0.39% in crude ore, in ground' (kilogram, None, ('natural resource', 'in ground')),\n",
       " 'Zirconium, in ground' (kilogram, None, ('natural resource', 'in ground'))]"
      ]
     },
     "execution_count": 9,
     "metadata": {},
     "output_type": "execute_result"
    }
   ],
   "source": [
    "sorted([x for x in biosphere if x['categories'] == ('natural resource', 'in ground')], key=lambda x: x['name'])"
   ]
  },
  {
   "cell_type": "code",
   "execution_count": 4,
   "metadata": {},
   "outputs": [],
   "source": [
    "gw = MineralResourceScarcity(data, biosphere)"
   ]
  },
  {
   "cell_type": "code",
   "execution_count": 5,
   "metadata": {},
   "outputs": [
    {
     "name": "stdout",
     "output_type": "stream",
     "text": [
      "Applying strategy: fix_perspective_string\n",
      "Applying strategy: generic_reformat\n",
      "Applying strategy: split_synonyms\n",
      "Applying strategy: more_synonyms\n",
      "Applying strategy: fix_unit_string\n",
      "Applying strategy: remove_asterisk\n",
      "Applying strategy: name_matcher\n",
      "Applying strategy: add_synonyms\n",
      "Applying strategy: complete_method_name\n",
      "Applying strategy: add_natural_resource_category\n",
      "Applying strategy: match_single\n",
      "Applied 11 strategies in 0.04 seconds\n"
     ]
    }
   ],
   "source": [
    "gw.apply_strategies()"
   ]
  },
  {
   "cell_type": "code",
   "execution_count": 6,
   "metadata": {},
   "outputs": [
    {
     "name": "stdout",
     "output_type": "stream",
     "text": [
      "Wrote matching file to:\n",
      "/Users/cmutel/Library/Application Support/Brightway3/default.c21f969b/output/lcia-matching-mineral_resource_scarcity.xlsx\n"
     ]
    }
   ],
   "source": [
    "gw.write_excel(\"mineral_resource_scarcity\")"
   ]
  },
  {
   "cell_type": "code",
   "execution_count": 7,
   "metadata": {},
   "outputs": [
    {
     "name": "stdout",
     "output_type": "stream",
     "text": [
      "3 methods\n",
      "537 cfs\n",
      "45 unlinked cfs\n"
     ]
    },
    {
     "data": {
      "text/plain": [
       "(3, 537, 45)"
      ]
     },
     "execution_count": 7,
     "metadata": {},
     "output_type": "execute_result"
    }
   ],
   "source": [
    "gw.statistics()"
   ]
  },
  {
   "cell_type": "code",
   "execution_count": 8,
   "metadata": {},
   "outputs": [
    {
     "name": "stdout",
     "output_type": "stream",
     "text": [
      "Ball clay\n",
      "Barite\n",
      "Bauxite\n",
      "Diamond (industrial)\n",
      "Fire clay\n",
      "Fuller's earth\n",
      "Ilmenite\n",
      "Iodine\n",
      "Kyanite\n",
      "Lime\n",
      "Rutile\n",
      "Tripoli\n",
      "Wollastonite\n",
      "Garnets\n",
      "Gemstones\n"
     ]
    }
   ],
   "source": [
    "for x in gw.unlinked:\n",
    "    print(x['name'])"
   ]
  },
  {
   "cell_type": "code",
   "execution_count": 9,
   "metadata": {},
   "outputs": [],
   "source": [
    "comp = gw.compare_to_previous()"
   ]
  },
  {
   "cell_type": "code",
   "execution_count": 10,
   "metadata": {
    "collapsed": true
   },
   "outputs": [
    {
     "name": "stdout",
     "output_type": "stream",
     "text": [
      "'Germanium, in ground' (kilogram, None, ('natural resource', 'in ground'))\n",
      "'Manganese, in ground' (kilogram, None, ('natural resource', 'in ground'))\n",
      "'Tin, in ground' (kilogram, None, ('natural resource', 'in ground'))\n",
      "'Aluminium, 24% in bauxite, 11% in crude ore, in ground' (kilogram, None, ('natural resource', 'in ground'))\n",
      "'Aluminium, in ground' (kilogram, None, ('natural resource', 'in ground'))\n",
      "'Cobalt, Co 5.0E-2%, in mixed ore, in ground' (kilogram, None, ('natural resource', 'in ground'))\n",
      "'Cobalt, in ground' (kilogram, None, ('natural resource', 'in ground'))\n",
      "'Copper, 0.52% in sulfide, Cu 0.27% and Mo 8.2E-3% in crude ore, in ground' (kilogram, None, ('natural resource', 'in ground'))\n",
      "'Copper, 0.59% in sulfide, Cu 0.22% and Mo 8.2E-3% in crude ore, in ground' (kilogram, None, ('natural resource', 'in ground'))\n",
      "'Copper, 0.97% in sulfide, Cu 0.36% and Mo 4.1E-2% in crude ore, in ground' (kilogram, None, ('natural resource', 'in ground'))\n",
      "'Copper, 0.99% in sulfide, Cu 0.36% and Mo 8.2E-3% in crude ore, in ground' (kilogram, None, ('natural resource', 'in ground'))\n",
      "'Copper, 1.13% in sulfide, Cu 0.76% and Ni 0.76% in crude ore, in ground' (kilogram, None, ('natural resource', 'in ground'))\n",
      "'Copper, 1.18% in sulfide, Cu 0.39% and Mo 8.2E-3% in crude ore, in ground' (kilogram, None, ('natural resource', 'in ground'))\n",
      "'Copper, 1.42% in sulfide, Cu 0.81% and Mo 8.2E-3% in crude ore, in ground' (kilogram, None, ('natural resource', 'in ground'))\n",
      "'Copper, 2.19% in sulfide, Cu 1.83% and Mo 8.2E-3% in crude ore, in ground' (kilogram, None, ('natural resource', 'in ground'))\n",
      "'Copper, Cu 0.2%, in mixed ore, in ground' (kilogram, None, ('natural resource', 'in ground'))\n",
      "'Copper, Cu 0.38%, in mixed ore, in ground' (kilogram, None, ('natural resource', 'in ground'))\n",
      "'Copper, Cu 6.8E-1%, in mixed ore, in ground' (kilogram, None, ('natural resource', 'in ground'))\n",
      "'Copper, in ground' (kilogram, None, ('natural resource', 'in ground'))\n",
      "'Cu, Cu 3.2E+0%, Pt 2.5E-4%, Pd 7.3E-4%, Rh 2.0E-5%, Ni 2.3E+0% in ore, in ground' (kilogram, None, ('natural resource', 'in ground'))\n",
      "'Cu, Cu 5.2E-2%, Pt 4.8E-4%, Pd 2.0E-4%, Rh 2.4E-5%, Ni 3.7E-2% in ore, in ground' (kilogram, None, ('natural resource', 'in ground'))\n",
      "'Gold, Au 1.0E-7%, in mixed ore, in ground' (kilogram, None, ('natural resource', 'in ground'))\n",
      "'Gold, Au 1.1E-4%, Ag 4.2E-3%, in ore, in ground' (kilogram, None, ('natural resource', 'in ground'))\n",
      "'Gold, Au 1.3E-4%, Ag 4.6E-5%, in ore, in ground' (kilogram, None, ('natural resource', 'in ground'))\n",
      "'Gold, Au 1.4E-4%, in ore, in ground' (kilogram, None, ('natural resource', 'in ground'))\n",
      "'Gold, Au 1.8E-4%, in mixed ore, in ground' (kilogram, None, ('natural resource', 'in ground'))\n",
      "'Gold, Au 2.1E-4%, Ag 2.1E-4%, in ore, in ground' (kilogram, None, ('natural resource', 'in ground'))\n",
      "'Gold, Au 4.3E-4%, in ore, in ground' (kilogram, None, ('natural resource', 'in ground'))\n",
      "'Gold, Au 4.9E-5%, in ore, in ground' (kilogram, None, ('natural resource', 'in ground'))\n",
      "'Gold, Au 5.4E-4%, Ag 1.5E-5%, in ore, in ground' (kilogram, None, ('natural resource', 'in ground'))\n",
      "'Gold, Au 6.7E-4%, in ore, in ground' (kilogram, None, ('natural resource', 'in ground'))\n",
      "'Gold, Au 6.8E-4%, Ag 1.5E-4%, in ore, in ground' (kilogram, None, ('natural resource', 'in ground'))\n",
      "'Gold, Au 7.1E-4%, in ore, in ground' (kilogram, None, ('natural resource', 'in ground'))\n",
      "'Gold, Au 9.7E-4%, in mixed ore, in ground' (kilogram, None, ('natural resource', 'in ground'))\n",
      "'Gold, Au 9.7E-5%, Ag 7.6E-5%, in ore, in ground' (kilogram, None, ('natural resource', 'in ground'))\n",
      "'Gold, in ground' (kilogram, None, ('natural resource', 'in ground'))\n",
      "'Lead, 5.0% in sulfide, Pb 3.0%, Zn, Ag, Cd, In, in ground' (kilogram, None, ('natural resource', 'in ground'))\n",
      "'Lead, Pb 0.014%, in mixed ore, in ground' (kilogram, None, ('natural resource', 'in ground'))\n",
      "'Lead, Pb 3.6E-1%, in mixed ore, in ground' (kilogram, None, ('natural resource', 'in ground'))\n",
      "'Lead, in ground' (kilogram, None, ('natural resource', 'in ground'))\n",
      "'Manganese, 35.7% in sedimentary deposit, 14.2% in crude ore, in ground' (kilogram, None, ('natural resource', 'in ground'))\n",
      "'Molybdenum, 0.010% in sulfide, Mo 8.2E-3% and Cu 1.83% in crude ore, in ground' (kilogram, None, ('natural resource', 'in ground'))\n",
      "'Molybdenum, 0.014% in sulfide, Mo 8.2E-3% and Cu 0.81% in crude ore, in ground' (kilogram, None, ('natural resource', 'in ground'))\n",
      "'Molybdenum, 0.016% in sulfide, Mo 8.2E-3% and Cu 0.27% in crude ore, in ground' (kilogram, None, ('natural resource', 'in ground'))\n",
      "'Molybdenum, 0.022% in sulfide, Mo 8.2E-3% and Cu 0.22% in crude ore, in ground' (kilogram, None, ('natural resource', 'in ground'))\n",
      "'Molybdenum, 0.022% in sulfide, Mo 8.2E-3% and Cu 0.36% in crude ore, in ground' (kilogram, None, ('natural resource', 'in ground'))\n",
      "'Molybdenum, 0.025% in sulfide, Mo 8.2E-3% and Cu 0.39% in crude ore, in ground' (kilogram, None, ('natural resource', 'in ground'))\n",
      "'Molybdenum, 0.11% in sulfide, Mo 4.1E-2% and Cu 0.36% in crude ore, in ground' (kilogram, None, ('natural resource', 'in ground'))\n",
      "'Ni, Ni 2.3E+0%, Pt 2.5E-4%, Pd 7.3E-4%, Rh 2.0E-5%, Cu 3.2E+0% in ore, in ground' (kilogram, None, ('natural resource', 'in ground'))\n",
      "'Ni, Ni 3.7E-2%, Pt 4.8E-4%, Pd 2.0E-4%, Rh 2.4E-5%, Cu 5.2E-2% in ore, in ground' (kilogram, None, ('natural resource', 'in ground'))\n",
      "'Nickel, 1.13% in sulfide, Ni 0.76% and Cu 0.76% in crude ore, in ground' (kilogram, None, ('natural resource', 'in ground'))\n",
      "'Nickel, 1.98% in silicates, 1.04% in crude ore, in ground' (kilogram, None, ('natural resource', 'in ground'))\n",
      "'Nickel, Ni 2.5E+0%, in mixed ore, in ground' (kilogram, None, ('natural resource', 'in ground'))\n",
      "'Nickel, in ground' (kilogram, None, ('natural resource', 'in ground'))\n",
      "'Palladium, Pd 1.6E-6%, in mixed ore, in ground' (kilogram, None, ('natural resource', 'in ground'))\n",
      "'Palladium, in ground' (kilogram, None, ('natural resource', 'in ground'))\n",
      "'Pd, Pd 2.0E-4%, Pt 4.8E-4%, Rh 2.4E-5%, Ni 3.7E-2%, Cu 5.2E-2% in ore, in ground' (kilogram, None, ('natural resource', 'in ground'))\n",
      "'Pd, Pd 7.3E-4%, Pt 2.5E-4%, Rh 2.0E-5%, Ni 2.3E+0%, Cu 3.2E+0% in ore, in ground' (kilogram, None, ('natural resource', 'in ground'))\n",
      "'Platinum, Pt 4.7E-7%, in mixed ore, in ground' (kilogram, None, ('natural resource', 'in ground'))\n",
      "'Platinum, in ground' (kilogram, None, ('natural resource', 'in ground'))\n",
      "'Pt, Pt 2.5E-4%, Pd 7.3E-4%, Rh 2.0E-5%, Ni 2.3E+0%, Cu 3.2E+0% in ore, in ground' (kilogram, None, ('natural resource', 'in ground'))\n",
      "'Pt, Pt 4.8E-4%, Pd 2.0E-4%, Rh 2.4E-5%, Ni 3.7E-2%, Cu 5.2E-2% in ore, in ground' (kilogram, None, ('natural resource', 'in ground'))\n",
      "'Rh, Rh 2.0E-5%, Pt 2.5E-4%, Pd 7.3E-4%, Ni 2.3E+0%, Cu 3.2E+0% in ore, in ground' (kilogram, None, ('natural resource', 'in ground'))\n",
      "'Rh, Rh 2.4E-5%, Pt 4.8E-4%, Pd 2.0E-4%, Ni 3.7E-2%, Cu 5.2E-2% in ore, in ground' (kilogram, None, ('natural resource', 'in ground'))\n",
      "'Rhodium, Rh 1.6E-7%, in mixed ore, in ground' (kilogram, None, ('natural resource', 'in ground'))\n",
      "'Rhodium, in ground' (kilogram, None, ('natural resource', 'in ground'))\n",
      "'Silver, 0.007% in sulfide, Ag 0.004%, Pb, Zn, Cd, In, in ground' (kilogram, None, ('natural resource', 'in ground'))\n",
      "'Silver, 0.01% in crude ore, in ground' (kilogram, None, ('natural resource', 'in ground'))\n",
      "'Silver, 3.2ppm in sulfide, Ag 1.2ppm, Cu and Te, in crude ore, in ground' (kilogram, None, ('natural resource', 'in ground'))\n",
      "'Silver, Ag 1.5E-4%, Au 6.8E-4%, in ore, in ground' (kilogram, None, ('natural resource', 'in ground'))\n",
      "'Silver, Ag 1.5E-5%, Au 5.4E-4%, in ore, in ground' (kilogram, None, ('natural resource', 'in ground'))\n",
      "'Silver, Ag 1.8E-6%, in mixed ore, in ground' (kilogram, None, ('natural resource', 'in ground'))\n",
      "'Silver, Ag 2.1E-4%, Au 2.1E-4%, in ore, in ground' (kilogram, None, ('natural resource', 'in ground'))\n",
      "'Silver, Ag 4.2E-3%, Au 1.1E-4%, in ore, in ground' (kilogram, None, ('natural resource', 'in ground'))\n",
      "'Silver, Ag 4.6E-5%, Au 1.3E-4%, in ore, in ground' (kilogram, None, ('natural resource', 'in ground'))\n",
      "'Silver, Ag 5.4E-3%, in mixed ore, in ground' (kilogram, None, ('natural resource', 'in ground'))\n",
      "'Silver, Ag 7.6E-5%, Au 9.7E-5%, in ore, in ground' (kilogram, None, ('natural resource', 'in ground'))\n",
      "'Silver, Ag 9.7E-4%, in mixed ore, in ground' (kilogram, None, ('natural resource', 'in ground'))\n",
      "'Silver, in ground' (kilogram, None, ('natural resource', 'in ground'))\n",
      "'Tin, 79% in cassiterite, 0.1% in crude ore, in ground' (kilogram, None, ('natural resource', 'in ground'))\n",
      "'Uranium, in ground' (kilogram, None, ('natural resource', 'in ground'))\n",
      "'Zinc, 9.0% in sulfide, Zn 5.3%, Pb, Ag, Cd, In, in ground' (kilogram, None, ('natural resource', 'in ground'))\n",
      "'Zinc, Zn 0.63%, in mixed ore, in ground' (kilogram, None, ('natural resource', 'in ground'))\n",
      "'Zinc, Zn 3.1%, in mixed ore, in ground' (kilogram, None, ('natural resource', 'in ground'))\n",
      "'Zinc, in ground' (kilogram, None, ('natural resource', 'in ground'))\n"
     ]
    }
   ],
   "source": [
    "import bw2data\n",
    "\n",
    "for flow, cf in bw2data.Method(gw.previous_reference).load():\n",
    "    print(bw2data.get_activity(flow))"
   ]
  },
  {
   "cell_type": "code",
   "execution_count": 10,
   "metadata": {},
   "outputs": [
    {
     "data": {
      "text/plain": [
       "[('found', 161), ('missing', 15), ('reference', 85)]"
      ]
     },
     "execution_count": 10,
     "metadata": {},
     "output_type": "execute_result"
    }
   ],
   "source": [
    "[(key, len(comp[key])) for key in comp]"
   ]
  },
  {
   "cell_type": "markdown",
   "metadata": {},
   "source": [
    "Present in previous ReCiPe, missing here"
   ]
  },
  {
   "cell_type": "code",
   "execution_count": 10,
   "metadata": {
    "collapsed": true
   },
   "outputs": [
    {
     "data": {
      "text/plain": [
       "{'aluminium, 24% in bauxite, 11% in crude ore, in ground',\n",
       " 'aluminium, in ground',\n",
       " 'cobalt, co 5.0e-2%, in mixed ore, in ground',\n",
       " 'cobalt, in ground',\n",
       " 'copper, 0.52% in sulfide, cu 0.27% and mo 8.2e-3% in crude ore, in ground',\n",
       " 'copper, 0.59% in sulfide, cu 0.22% and mo 8.2e-3% in crude ore, in ground',\n",
       " 'copper, 0.97% in sulfide, cu 0.36% and mo 4.1e-2% in crude ore, in ground',\n",
       " 'copper, 0.99% in sulfide, cu 0.36% and mo 8.2e-3% in crude ore, in ground',\n",
       " 'copper, 1.13% in sulfide, cu 0.76% and ni 0.76% in crude ore, in ground',\n",
       " 'copper, 1.18% in sulfide, cu 0.39% and mo 8.2e-3% in crude ore, in ground',\n",
       " 'copper, 1.42% in sulfide, cu 0.81% and mo 8.2e-3% in crude ore, in ground',\n",
       " 'copper, 2.19% in sulfide, cu 1.83% and mo 8.2e-3% in crude ore, in ground',\n",
       " 'copper, cu 0.2%, in mixed ore, in ground',\n",
       " 'copper, cu 0.38%, in mixed ore, in ground',\n",
       " 'copper, cu 6.8e-1%, in mixed ore, in ground',\n",
       " 'copper, in ground',\n",
       " 'cu, cu 3.2e+0%, pt 2.5e-4%, pd 7.3e-4%, rh 2.0e-5%, ni 2.3e+0% in ore, in ground',\n",
       " 'cu, cu 5.2e-2%, pt 4.8e-4%, pd 2.0e-4%, rh 2.4e-5%, ni 3.7e-2% in ore, in ground',\n",
       " 'germanium, in ground',\n",
       " 'gold, au 1.0e-7%, in mixed ore, in ground',\n",
       " 'gold, au 1.1e-4%, ag 4.2e-3%, in ore, in ground',\n",
       " 'gold, au 1.3e-4%, ag 4.6e-5%, in ore, in ground',\n",
       " 'gold, au 1.4e-4%, in ore, in ground',\n",
       " 'gold, au 1.8e-4%, in mixed ore, in ground',\n",
       " 'gold, au 2.1e-4%, ag 2.1e-4%, in ore, in ground',\n",
       " 'gold, au 4.3e-4%, in ore, in ground',\n",
       " 'gold, au 4.9e-5%, in ore, in ground',\n",
       " 'gold, au 5.4e-4%, ag 1.5e-5%, in ore, in ground',\n",
       " 'gold, au 6.7e-4%, in ore, in ground',\n",
       " 'gold, au 6.8e-4%, ag 1.5e-4%, in ore, in ground',\n",
       " 'gold, au 7.1e-4%, in ore, in ground',\n",
       " 'gold, au 9.7e-4%, in mixed ore, in ground',\n",
       " 'gold, au 9.7e-5%, ag 7.6e-5%, in ore, in ground',\n",
       " 'gold, in ground',\n",
       " 'lead, 5.0% in sulfide, pb 3.0%, zn, ag, cd, in, in ground',\n",
       " 'lead, in ground',\n",
       " 'lead, pb 0.014%, in mixed ore, in ground',\n",
       " 'lead, pb 3.6e-1%, in mixed ore, in ground',\n",
       " 'manganese, 35.7% in sedimentary deposit, 14.2% in crude ore, in ground',\n",
       " 'manganese, in ground',\n",
       " 'molybdenum, 0.010% in sulfide, mo 8.2e-3% and cu 1.83% in crude ore, in ground',\n",
       " 'molybdenum, 0.014% in sulfide, mo 8.2e-3% and cu 0.81% in crude ore, in ground',\n",
       " 'molybdenum, 0.016% in sulfide, mo 8.2e-3% and cu 0.27% in crude ore, in ground',\n",
       " 'molybdenum, 0.022% in sulfide, mo 8.2e-3% and cu 0.22% in crude ore, in ground',\n",
       " 'molybdenum, 0.022% in sulfide, mo 8.2e-3% and cu 0.36% in crude ore, in ground',\n",
       " 'molybdenum, 0.025% in sulfide, mo 8.2e-3% and cu 0.39% in crude ore, in ground',\n",
       " 'molybdenum, 0.11% in sulfide, mo 4.1e-2% and cu 0.36% in crude ore, in ground',\n",
       " 'ni, ni 2.3e+0%, pt 2.5e-4%, pd 7.3e-4%, rh 2.0e-5%, cu 3.2e+0% in ore, in ground',\n",
       " 'ni, ni 3.7e-2%, pt 4.8e-4%, pd 2.0e-4%, rh 2.4e-5%, cu 5.2e-2% in ore, in ground',\n",
       " 'nickel, 1.13% in sulfide, ni 0.76% and cu 0.76% in crude ore, in ground',\n",
       " 'nickel, 1.98% in silicates, 1.04% in crude ore, in ground',\n",
       " 'nickel, in ground',\n",
       " 'nickel, ni 2.5e+0%, in mixed ore, in ground',\n",
       " 'palladium, in ground',\n",
       " 'palladium, pd 1.6e-6%, in mixed ore, in ground',\n",
       " 'pd, pd 2.0e-4%, pt 4.8e-4%, rh 2.4e-5%, ni 3.7e-2%, cu 5.2e-2% in ore, in ground',\n",
       " 'pd, pd 7.3e-4%, pt 2.5e-4%, rh 2.0e-5%, ni 2.3e+0%, cu 3.2e+0% in ore, in ground',\n",
       " 'platinum, in ground',\n",
       " 'platinum, pt 4.7e-7%, in mixed ore, in ground',\n",
       " 'pt, pt 2.5e-4%, pd 7.3e-4%, rh 2.0e-5%, ni 2.3e+0%, cu 3.2e+0% in ore, in ground',\n",
       " 'pt, pt 4.8e-4%, pd 2.0e-4%, rh 2.4e-5%, ni 3.7e-2%, cu 5.2e-2% in ore, in ground',\n",
       " 'rh, rh 2.0e-5%, pt 2.5e-4%, pd 7.3e-4%, ni 2.3e+0%, cu 3.2e+0% in ore, in ground',\n",
       " 'rh, rh 2.4e-5%, pt 4.8e-4%, pd 2.0e-4%, ni 3.7e-2%, cu 5.2e-2% in ore, in ground',\n",
       " 'rhodium, in ground',\n",
       " 'rhodium, rh 1.6e-7%, in mixed ore, in ground',\n",
       " 'silver, 0.007% in sulfide, ag 0.004%, pb, zn, cd, in, in ground',\n",
       " 'silver, 0.01% in crude ore, in ground',\n",
       " 'silver, 3.2ppm in sulfide, ag 1.2ppm, cu and te, in crude ore, in ground',\n",
       " 'silver, ag 1.5e-4%, au 6.8e-4%, in ore, in ground',\n",
       " 'silver, ag 1.5e-5%, au 5.4e-4%, in ore, in ground',\n",
       " 'silver, ag 1.8e-6%, in mixed ore, in ground',\n",
       " 'silver, ag 2.1e-4%, au 2.1e-4%, in ore, in ground',\n",
       " 'silver, ag 4.2e-3%, au 1.1e-4%, in ore, in ground',\n",
       " 'silver, ag 4.6e-5%, au 1.3e-4%, in ore, in ground',\n",
       " 'silver, ag 5.4e-3%, in mixed ore, in ground',\n",
       " 'silver, ag 7.6e-5%, au 9.7e-5%, in ore, in ground',\n",
       " 'silver, ag 9.7e-4%, in mixed ore, in ground',\n",
       " 'silver, in ground',\n",
       " 'tin, 79% in cassiterite, 0.1% in crude ore, in ground',\n",
       " 'tin, in ground',\n",
       " 'uranium, in ground',\n",
       " 'zinc, 9.0% in sulfide, zn 5.3%, pb, ag, cd, in, in ground',\n",
       " 'zinc, in ground',\n",
       " 'zinc, zn 0.63%, in mixed ore, in ground',\n",
       " 'zinc, zn 3.1%, in mixed ore, in ground'}"
      ]
     },
     "execution_count": 10,
     "metadata": {},
     "output_type": "execute_result"
    }
   ],
   "source": [
    "comp['reference']"
   ]
  },
  {
   "cell_type": "code",
   "execution_count": 16,
   "metadata": {
    "collapsed": true
   },
   "outputs": [
    {
     "data": {
      "text/plain": [
       "{'aluminium, in ground',\n",
       " 'cerium, 24% in bastnasite, 2.4% in crude ore, in ground',\n",
       " 'cerium, in ground',\n",
       " 'clay, bentonite, in ground',\n",
       " 'dysprosium, in ground',\n",
       " 'erbium, in ground',\n",
       " 'europium, 0.06% in bastnasite, 0.006% in crude ore, in ground',\n",
       " 'europium, in ground',\n",
       " 'gadolinium, 0.15% in bastnasite, 0.015% in crude ore, in ground',\n",
       " 'gadolinium, in ground',\n",
       " 'gallium, 0.014% in bauxite, in ground',\n",
       " 'gallium, in ground',\n",
       " 'holmium, in ground',\n",
       " 'indium, 0.005% in sulfide, in 0.003%, pb, zn, ag, cd, in ground',\n",
       " 'indium, in ground',\n",
       " 'iridium, in ground',\n",
       " 'iron, 46% in ore, 25% in crude ore, in ground',\n",
       " 'iron, 72% in magnetite, 14% in crude ore, in ground',\n",
       " 'iron, in ground',\n",
       " 'lanthanum, 7.2% in bastnasite, 0.72% in crude ore, in ground',\n",
       " 'lanthanum, in ground',\n",
       " 'lutetium, in ground',\n",
       " 'metamorphous rock, graphite containing, in ground',\n",
       " 'neodymium, 4% in bastnasite, 0.4% in crude ore, in ground',\n",
       " 'neodymium, in ground',\n",
       " 'osmium, in ground',\n",
       " 'palladium, in ground',\n",
       " 'palladium, pd 1.6e-6%, in mixed ore, in ground',\n",
       " 'pd, pd 2.0e-4%, pt 4.8e-4%, rh 2.4e-5%, ni 3.7e-2%, cu 5.2e-2% in ore, in ground',\n",
       " 'pd, pd 7.3e-4%, pt 2.5e-4%, rh 2.0e-5%, ni 2.3e+0%, cu 3.2e+0% in ore, in ground',\n",
       " 'platinum, in ground',\n",
       " 'platinum, pt 4.7e-7%, in mixed ore, in ground',\n",
       " 'potassium, in ground',\n",
       " 'praseodymium, 0.42% in bastnasite, 0.042% in crude ore, in ground',\n",
       " 'praseodymium, in ground',\n",
       " 'pumice, in ground',\n",
       " 'rh, rh 2.0e-5%, pt 2.5e-4%, pd 7.3e-4%, ni 2.3e+0%, cu 3.2e+0% in ore, in ground',\n",
       " 'rh, rh 2.4e-5%, pt 4.8e-4%, pd 2.0e-4%, ni 3.7e-2%, cu 5.2e-2% in ore, in ground',\n",
       " 'rhodium, in ground',\n",
       " 'rhodium, rh 1.6e-7%, in mixed ore, in ground',\n",
       " 'ruthenium, in ground',\n",
       " 'samarium, 0.3% in bastnasite, 0.03% in crude ore, in ground',\n",
       " 'samarium, in ground',\n",
       " 'scandium, in ground',\n",
       " 'tantalum, 81.9% in tantalite, 1.6e-4% in crude ore, in ground',\n",
       " 'tantalum, in ground',\n",
       " 'terbium, in ground',\n",
       " 'thulium, in ground',\n",
       " 'tio2, 54% in ilmenite, 18% in crude ore, in ground',\n",
       " 'tio2, 54% in ilmenite, 2.6% in crude ore, in ground',\n",
       " 'tio2, 95% in rutile, 0.40% in crude ore, in ground',\n",
       " 'ytterbium, in ground',\n",
       " 'yttrium, in ground',\n",
       " 'zirconium, 50% in zircon, 0.39% in crude ore, in ground',\n",
       " 'zirconium, in ground'}"
      ]
     },
     "execution_count": 16,
     "metadata": {},
     "output_type": "execute_result"
    }
   ],
   "source": [
    "comp['found']"
   ]
  },
  {
   "cell_type": "code",
   "execution_count": 11,
   "metadata": {},
   "outputs": [
    {
     "data": {
      "text/plain": [
       "[]"
      ]
     },
     "execution_count": 11,
     "metadata": {},
     "output_type": "execute_result"
    }
   ],
   "source": [
    "sorted(comp['reference'].difference(comp['found']))"
   ]
  },
  {
   "cell_type": "code",
   "execution_count": null,
   "metadata": {},
   "outputs": [],
   "source": [
    "c['found']"
   ]
  },
  {
   "cell_type": "code",
   "execution_count": null,
   "metadata": {},
   "outputs": [],
   "source": [
    "c['missing']"
   ]
  },
  {
   "cell_type": "code",
   "execution_count": 13,
   "metadata": {},
   "outputs": [
    {
     "name": "stdout",
     "output_type": "stream",
     "text": [
      "Applying strategy: drop_unlinked_cfs\n",
      "Applied 1 strategies in 0.00 seconds\n"
     ]
    }
   ],
   "source": [
    "gw.drop_unlinked()"
   ]
  },
  {
   "cell_type": "code",
   "execution_count": 14,
   "metadata": {},
   "outputs": [
    {
     "name": "stdout",
     "output_type": "stream",
     "text": [
      "Wrote 3 LCIA methods with 492 characterization factors\n"
     ]
    }
   ],
   "source": [
    "gw.write_methods(overwrite=True)"
   ]
  },
  {
   "cell_type": "code",
   "execution_count": 16,
   "metadata": {},
   "outputs": [
    {
     "data": {
      "text/plain": [
       "('ReCiPe 2016', 'v1.1 (20180117)', 'SOP', 'Egalitarian')"
      ]
     },
     "execution_count": 16,
     "metadata": {},
     "output_type": "execute_result"
    }
   ],
   "source": [
    "gw.data[2]['name']"
   ]
  },
  {
   "cell_type": "markdown",
   "metadata": {},
   "source": [
    "# Compare to previous ReCiPe method"
   ]
  },
  {
   "cell_type": "code",
   "execution_count": 17,
   "metadata": {},
   "outputs": [],
   "source": [
    "%matplotlib inline"
   ]
  },
  {
   "cell_type": "code",
   "execution_count": 18,
   "metadata": {},
   "outputs": [],
   "source": [
    "import bw2data, bw2calc\n",
    "import pyprind\n",
    "import seaborn as sb\n",
    "import numpy as np"
   ]
  },
  {
   "cell_type": "code",
   "execution_count": 19,
   "metadata": {},
   "outputs": [],
   "source": [
    "keys = sorted([x.key for x in bw2data.Database(\"ecoinvent 3.6 cutoff\")])"
   ]
  },
  {
   "cell_type": "code",
   "execution_count": 20,
   "metadata": {},
   "outputs": [],
   "source": [
    "results_reference, results_2016 = [], []"
   ]
  },
  {
   "cell_type": "code",
   "execution_count": 21,
   "metadata": {},
   "outputs": [],
   "source": [
    "lca = bw2calc.LCA({keys[0]: 1}, gw.previous_reference)\n",
    "lca.lci()\n",
    "lca.lcia()"
   ]
  },
  {
   "cell_type": "code",
   "execution_count": 22,
   "metadata": {},
   "outputs": [],
   "source": [
    "reference_cm = lca.characterization_matrix.copy()"
   ]
  },
  {
   "cell_type": "code",
   "execution_count": 24,
   "metadata": {},
   "outputs": [],
   "source": [
    "lca.switch_method(('ReCiPe 2016', 'v1.1 (20180117)', 'SOP', 'Egalitarian'))"
   ]
  },
  {
   "cell_type": "code",
   "execution_count": 25,
   "metadata": {},
   "outputs": [
    {
     "data": {
      "text/plain": [
       "(31569.10964062484, 258825.92009920627)"
      ]
     },
     "execution_count": 25,
     "metadata": {},
     "output_type": "execute_result"
    }
   ],
   "source": [
    "lca.characterization_matrix.sum(), reference_cm.sum()"
   ]
  },
  {
   "cell_type": "code",
   "execution_count": 26,
   "metadata": {},
   "outputs": [],
   "source": [
    "new_cm = lca.characterization_matrix.copy()"
   ]
  },
  {
   "cell_type": "code",
   "execution_count": 27,
   "metadata": {},
   "outputs": [
    {
     "name": "stderr",
     "output_type": "stream",
     "text": [
      "0% [##############################] 100% | ETA: 00:00:00\n",
      "Total time elapsed: 00:05:26\n"
     ]
    }
   ],
   "source": [
    "for key in pyprind.prog_bar(keys):\n",
    "    lca.redo_lci({key: 1})\n",
    "    results_reference.append((reference_cm * lca.inventory).sum())\n",
    "    results_2016.append((new_cm * lca.inventory).sum())    "
   ]
  },
  {
   "cell_type": "code",
   "execution_count": 28,
   "metadata": {},
   "outputs": [
    {
     "name": "stderr",
     "output_type": "stream",
     "text": [
      "/Users/cmutel/miniconda3/envs/bw2dev/lib/python3.7/site-packages/ipykernel_launcher.py:1: RuntimeWarning: divide by zero encountered in log10\n",
      "  \"\"\"Entry point for launching an IPython kernel.\n"
     ]
    },
    {
     "data": {
      "text/plain": [
       "<matplotlib.axes._subplots.AxesSubplot at 0x125590b50>"
      ]
     },
     "execution_count": 28,
     "metadata": {},
     "output_type": "execute_result"
    },
    {
     "data": {
      "image/png": "[encoded data removed]",
      "text/plain": [
       "<Figure size 432x288 with 1 Axes>"
      ]
     },
     "metadata": {
      "needs_background": "light"
     },
     "output_type": "display_data"
    }
   ],
   "source": [
    "sb.scatterplot(np.log10(np.array(results_reference)), np.log10(np.array(results_2016)))"
   ]
  },
  {
   "cell_type": "code",
   "execution_count": 26,
   "metadata": {},
   "outputs": [],
   "source": [
    "def masked_ratio(a, b):\n",
    "    a, b = np.array(a), np.array(b)\n",
    "    mask = (a != 0) * (b != 0)\n",
    "    return a / b"
   ]
  },
  {
   "cell_type": "code",
   "execution_count": 23,
   "metadata": {},
   "outputs": [
    {
     "name": "stderr",
     "output_type": "stream",
     "text": [
      "/Users/cmutel/miniconda3/envs/bw2dev/lib/python3.7/site-packages/ipykernel_launcher.py:4: RuntimeWarning: divide by zero encountered in true_divide\n",
      "  after removing the cwd from sys.path.\n"
     ]
    },
    {
     "ename": "OverflowError",
     "evalue": "cannot convert float infinity to integer",
     "output_type": "error",
     "traceback": [
      "\u001b[0;31m---------------------------------------------------------------------------\u001b[0m",
      "\u001b[0;31mOverflowError\u001b[0m                             Traceback (most recent call last)",
      "\u001b[0;32m<ipython-input-23-2a222fdd991d>\u001b[0m in \u001b[0;36m<module>\u001b[0;34m\u001b[0m\n\u001b[0;32m----> 1\u001b[0;31m \u001b[0msb\u001b[0m\u001b[0;34m.\u001b[0m\u001b[0mdistplot\u001b[0m\u001b[0;34m(\u001b[0m\u001b[0mmasked_ratio\u001b[0m\u001b[0;34m(\u001b[0m\u001b[0mresults_2016\u001b[0m\u001b[0;34m,\u001b[0m \u001b[0mresults_reference\u001b[0m\u001b[0;34m)\u001b[0m\u001b[0;34m)\u001b[0m\u001b[0;34m\u001b[0m\u001b[0;34m\u001b[0m\u001b[0m\n\u001b[0m",
      "\u001b[0;32m~/miniconda3/envs/bw2dev/lib/python3.7/site-packages/seaborn/distributions.py\u001b[0m in \u001b[0;36mdistplot\u001b[0;34m(a, bins, hist, kde, rug, fit, hist_kws, kde_kws, rug_kws, fit_kws, color, vertical, norm_hist, axlabel, label, ax)\u001b[0m\n\u001b[1;32m    213\u001b[0m     \u001b[0;32mif\u001b[0m \u001b[0mhist\u001b[0m\u001b[0;34m:\u001b[0m\u001b[0;34m\u001b[0m\u001b[0;34m\u001b[0m\u001b[0m\n\u001b[1;32m    214\u001b[0m         \u001b[0;32mif\u001b[0m \u001b[0mbins\u001b[0m \u001b[0;32mis\u001b[0m \u001b[0;32mNone\u001b[0m\u001b[0;34m:\u001b[0m\u001b[0;34m\u001b[0m\u001b[0;34m\u001b[0m\u001b[0m\n\u001b[0;32m--> 215\u001b[0;31m             \u001b[0mbins\u001b[0m \u001b[0;34m=\u001b[0m \u001b[0mmin\u001b[0m\u001b[0;34m(\u001b[0m\u001b[0m_freedman_diaconis_bins\u001b[0m\u001b[0;34m(\u001b[0m\u001b[0ma\u001b[0m\u001b[0;34m)\u001b[0m\u001b[0;34m,\u001b[0m \u001b[0;36m50\u001b[0m\u001b[0;34m)\u001b[0m\u001b[0;34m\u001b[0m\u001b[0;34m\u001b[0m\u001b[0m\n\u001b[0m\u001b[1;32m    216\u001b[0m         \u001b[0mhist_kws\u001b[0m\u001b[0;34m.\u001b[0m\u001b[0msetdefault\u001b[0m\u001b[0;34m(\u001b[0m\u001b[0;34m\"alpha\"\u001b[0m\u001b[0;34m,\u001b[0m \u001b[0;36m0.4\u001b[0m\u001b[0;34m)\u001b[0m\u001b[0;34m\u001b[0m\u001b[0;34m\u001b[0m\u001b[0m\n\u001b[1;32m    217\u001b[0m         \u001b[0mhist_kws\u001b[0m\u001b[0;34m.\u001b[0m\u001b[0msetdefault\u001b[0m\u001b[0;34m(\u001b[0m\u001b[0;34m\"density\"\u001b[0m\u001b[0;34m,\u001b[0m \u001b[0mnorm_hist\u001b[0m\u001b[0;34m)\u001b[0m\u001b[0;34m\u001b[0m\u001b[0;34m\u001b[0m\u001b[0m\n",
      "\u001b[0;32m~/miniconda3/envs/bw2dev/lib/python3.7/site-packages/seaborn/distributions.py\u001b[0m in \u001b[0;36m_freedman_diaconis_bins\u001b[0;34m(a)\u001b[0m\n\u001b[1;32m     33\u001b[0m         \u001b[0;32mreturn\u001b[0m \u001b[0mint\u001b[0m\u001b[0;34m(\u001b[0m\u001b[0mnp\u001b[0m\u001b[0;34m.\u001b[0m\u001b[0msqrt\u001b[0m\u001b[0;34m(\u001b[0m\u001b[0ma\u001b[0m\u001b[0;34m.\u001b[0m\u001b[0msize\u001b[0m\u001b[0;34m)\u001b[0m\u001b[0;34m)\u001b[0m\u001b[0;34m\u001b[0m\u001b[0;34m\u001b[0m\u001b[0m\n\u001b[1;32m     34\u001b[0m     \u001b[0;32melse\u001b[0m\u001b[0;34m:\u001b[0m\u001b[0;34m\u001b[0m\u001b[0;34m\u001b[0m\u001b[0m\n\u001b[0;32m---> 35\u001b[0;31m         \u001b[0;32mreturn\u001b[0m \u001b[0mint\u001b[0m\u001b[0;34m(\u001b[0m\u001b[0mnp\u001b[0m\u001b[0;34m.\u001b[0m\u001b[0mceil\u001b[0m\u001b[0;34m(\u001b[0m\u001b[0;34m(\u001b[0m\u001b[0ma\u001b[0m\u001b[0;34m.\u001b[0m\u001b[0mmax\u001b[0m\u001b[0;34m(\u001b[0m\u001b[0;34m)\u001b[0m \u001b[0;34m-\u001b[0m \u001b[0ma\u001b[0m\u001b[0;34m.\u001b[0m\u001b[0mmin\u001b[0m\u001b[0;34m(\u001b[0m\u001b[0;34m)\u001b[0m\u001b[0;34m)\u001b[0m \u001b[0;34m/\u001b[0m \u001b[0mh\u001b[0m\u001b[0;34m)\u001b[0m\u001b[0;34m)\u001b[0m\u001b[0;34m\u001b[0m\u001b[0;34m\u001b[0m\u001b[0m\n\u001b[0m\u001b[1;32m     36\u001b[0m \u001b[0;34m\u001b[0m\u001b[0m\n\u001b[1;32m     37\u001b[0m \u001b[0;34m\u001b[0m\u001b[0m\n",
      "\u001b[0;31mOverflowError\u001b[0m: cannot convert float infinity to integer"
     ]
    },
    {
     "data": {
      "image/png": "[encoded data removed]",
      "text/plain": [
       "<Figure size 432x288 with 1 Axes>"
      ]
     },
     "metadata": {
      "needs_background": "light"
     },
     "output_type": "display_data"
    }
   ],
   "source": [
    "sb.distplot(masked_ratio(results_2016, results_reference))"
   ]
  },
  {
   "cell_type": "code",
   "execution_count": 24,
   "metadata": {},
   "outputs": [],
   "source": [
    "def abnormal_ratio(a, b):\n",
    "    if not a or not b:\n",
    "        return\n",
    "    ratio = abs(a / b)\n",
    "    if 0.8 < ratio < 1.25:\n",
    "        return\n",
    "    return ratio"
   ]
  },
  {
   "cell_type": "code",
   "execution_count": null,
   "metadata": {},
   "outputs": [],
   "source": [
    "exceptions = sorted([\n",
    "    (abnormal_ratio(results_2016[i], results_reference[i]), bw2data.get_activity(key)) \n",
    "    for i, key in enumerate(keys) \n",
    "    if abnormal_ratio(results_2016[i], results_reference[i])\n",
    "], reverse=True)"
   ]
  },
  {
   "cell_type": "code",
   "execution_count": null,
   "metadata": {},
   "outputs": [],
   "source": [
    "len(exceptions)"
   ]
  },
  {
   "cell_type": "code",
   "execution_count": null,
   "metadata": {
    "scrolled": false
   },
   "outputs": [],
   "source": [
    "exceptions[:10]"
   ]
  },
  {
   "cell_type": "code",
   "execution_count": null,
   "metadata": {},
   "outputs": [],
   "source": [
    "lca.redo_lci({exceptions[0][1]: 1})\n",
    "lca.characterized_inventory = new_cm * lca.inventory"
   ]
  }
 ],
 "metadata": {
  "kernelspec": {
   "display_name": "Python 3",
   "language": "python",
   "name": "python3"
  },
  "language_info": {
   "codemirror_mode": {
    "name": "ipython",
    "version": 3
   },
   "file_extension": ".py",
   "mimetype": "text/x-python",
   "name": "python",
   "nbconvert_exporter": "python",
   "pygments_lexer": "ipython3",
   "version": "3.7.6"
  }
 },
 "nbformat": 4,
 "nbformat_minor": 4
}
