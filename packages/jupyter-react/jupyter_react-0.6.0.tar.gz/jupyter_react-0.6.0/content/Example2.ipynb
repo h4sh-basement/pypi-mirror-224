{
 "cells": [
  {
   "cell_type": "code",
   "execution_count": null,
   "id": "ec55a291-4cce-45c1-9ca4-b6ecc9a822f1",
   "metadata": {},
   "outputs": [],
   "source": []
  },
  {
   "cell_type": "code",
   "execution_count": null,
   "id": "acda65ca-e563-4bd9-bed3-f568f48c652a",
   "metadata": {},
   "outputs": [],
   "source": []
  }
 ],
 "metadata": {
  "kernelspec": {
   "display_name": "Python 3 (ipykernel)",
   "language": "python",
   "name": "python3"
  },
  "language_info": {
   "codemirror_mode": {
    "name": "ipython",
    "version": 3
   },
   "file_extension": ".py",
   "mimetype": "text/x-python",
   "name": "python",
   "nbconvert_exporter": "python",
   "pygments_lexer": "ipython3",
   "version": "3.11.4"
  }
 },
 "nbformat": 4,
 "nbformat_minor": 5
}
