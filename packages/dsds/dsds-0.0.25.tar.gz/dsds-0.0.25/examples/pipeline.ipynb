{
 "cells": [
  {
   "cell_type": "code",
   "execution_count": null,
   "metadata": {},
   "outputs": [],
   "source": [
    "import dsds.prescreen as ps\n",
    "import dsds.utils as u\n",
    "import dsds.transform as t\n",
    "import dsds.encoders as enc\n",
    "import dsds.sample as sa\n",
    "import dsds.fs as fs\n",
    "import polars as pl"
   ]
  },
  {
   "attachments": {},
   "cell_type": "markdown",
   "metadata": {},
   "source": [
    "# More Complicated Pipelines that are Beyond Sklearn\n",
    "\n",
    "This is a more advanced pipeline. It contains filter, upsample steps, which are persisted which means they will be remembered by the pipeline and will be\n",
    "applied if the pipeline is applied to other dataframe. You can set persist = False so that these steps won't be remembered. You can also append a model score to the dataframe. That means this model score append can be an intermediate step, which enables pipelines in which the final model depends on previous model scores. Simple passthroughs like logistic passthrough is built in for you."
   ]
  },
  {
   "cell_type": "code",
   "execution_count": null,
   "metadata": {},
   "outputs": [],
   "source": [
    "# `data` is Lazy because input is Lazy. All pipe functions work with LazyFrames\n",
    "data = (\n",
    "    pl.scan_csv(\"../data/advertising.csv\").sort(by=\"id\")\n",
    "    .pipe(ps.var_removal, threshold = 0.5, target = \"Clicked on Ad\")\n",
    "    .pipe(ps.filter, condition = pl.col(\"Age\") > 30, persist=True)\n",
    "    .pipe(ps.constant_removal)\n",
    "    .pipe(sa.simple_upsample, subgroup = pl.col(\"One_Hot_Test\") != 'A', count = 200, persist=True)\n",
    "    .pipe(enc.binary_encode, exclude = [\"Clicked on Ad\"])\n",
    "    .pipe(enc.one_hot_encode, cols= [\"One_Hot_Test\"])\n",
    "    .pipe(t.impute, cols=[\"Area Income\", \"Daily Internet Usage\", \"Daily Internet Usage Band\"], strategy=\"median\")\n",
    "    .pipe(t.impute, cols=[\"Daily Internet Usage\"], strategy = \"mean\")\n",
    "    .pipe(u.logistic_passthrough, col = \"Daily Internet Usage\", coeff=0.5, const=-100)\n",
    "    .pipe(fs.mrmr_selector, target = \"Clicked on Ad\", top_k = 12, strategy=\"fscore\")\n",
    "    .pipe(fs.mutual_info_selector, target = \"Clicked on Ad\", top_k = 3)\n",
    "    .pipe(ps.remove_if_exists, [\"Ad Topic Line\", \"City\", \"Country\", \"Timestamp\"])\n",
    "    .pipe(ps.rename, rename_dict={\"logistic_score\":\"Daily Internet Usage Logistic Score\"}, persist=True)\n",
    ")\n"
   ]
  },
  {
   "cell_type": "code",
   "execution_count": null,
   "metadata": {},
   "outputs": [],
   "source": [
    "data.limit(5).collect()"
   ]
  },
  {
   "cell_type": "code",
   "execution_count": null,
   "metadata": {},
   "outputs": [],
   "source": [
    "data.blueprint"
   ]
  },
  {
   "cell_type": "code",
   "execution_count": null,
   "metadata": {},
   "outputs": [],
   "source": [
    "x = data.collect()\n",
    "y = x.drop_in_place(\"Clicked on Ad\")"
   ]
  },
  {
   "cell_type": "code",
   "execution_count": null,
   "metadata": {},
   "outputs": [],
   "source": [
    "# Train and tune a model outside the data pipeline\n",
    "from sklearn.ensemble import RandomForestClassifier\n",
    "rf = RandomForestClassifier(max_depth=4, n_estimators=30, n_jobs= -1)\n",
    "rf.fit(x.select(\"Daily Internet Usage\", \"Daily Internet Usage Logistic Score\", \"Daily Time Spent on Site\"), y)\n"
   ]
  },
  {
   "cell_type": "code",
   "execution_count": null,
   "metadata": {},
   "outputs": [],
   "source": [
    "# add the TRAINED model to the end of the data pipeline\n",
    "\n",
    "final_df = data.pipe(\n",
    "    u.append_classif_score, \n",
    "    model = rf, \n",
    "    features = [\"Daily Internet Usage\", \"Daily Internet Usage Logistic Score\", \"Daily Time Spent on Site\"],\n",
    "    target = \"Clicked on Ad\", \n",
    ")"
   ]
  },
  {
   "cell_type": "code",
   "execution_count": null,
   "metadata": {},
   "outputs": [],
   "source": [
    "# Show last 3 steps.\n",
    "final_df.blueprint.show(-3)"
   ]
  },
  {
   "cell_type": "code",
   "execution_count": null,
   "metadata": {},
   "outputs": [],
   "source": [
    "final_df.limit(5).collect()"
   ]
  },
  {
   "cell_type": "code",
   "execution_count": null,
   "metadata": {},
   "outputs": [],
   "source": [
    "# The modelled pipeline can be pickled as long as the \n",
    "# model can be pickled\n",
    "\n",
    "final_df.blueprint.preserve(\"modelled_pipe.pkl\")"
   ]
  },
  {
   "cell_type": "code",
   "execution_count": null,
   "metadata": {},
   "outputs": [],
   "source": [
    "import dsds.blueprint as bp\n",
    "pipe = bp.from_pkl(\"modelled_pipe.pkl\")\n",
    "type(pipe)"
   ]
  },
  {
   "cell_type": "code",
   "execution_count": null,
   "metadata": {},
   "outputs": [],
   "source": [
    "processed_df = pipe.apply(\n",
    "    pl.scan_csv(\"../data/advertising.csv\")\n",
    "    , collect = True\n",
    ")"
   ]
  },
  {
   "cell_type": "code",
   "execution_count": null,
   "metadata": {},
   "outputs": [],
   "source": [
    "processed_df"
   ]
  }
 ],
 "metadata": {
  "kernelspec": {
   "display_name": "my_py11",
   "language": "python",
   "name": "python3"
  },
  "language_info": {
   "codemirror_mode": {
    "name": "ipython",
    "version": 3
   },
   "file_extension": ".py",
   "mimetype": "text/x-python",
   "name": "python",
   "nbconvert_exporter": "python",
   "pygments_lexer": "ipython3",
   "version": "3.11.3"
  },
  "orig_nbformat": 4
 },
 "nbformat": 4,
 "nbformat_minor": 2
}
