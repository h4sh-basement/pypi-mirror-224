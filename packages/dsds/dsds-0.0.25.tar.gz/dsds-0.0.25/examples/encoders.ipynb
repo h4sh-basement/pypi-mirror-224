{
 "cells": [
  {
   "cell_type": "code",
   "execution_count": 1,
   "metadata": {},
   "outputs": [],
   "source": [
    "import pandas as pd\n",
    "import polars as pl\n",
    "import numpy as np\n",
    "from sklearn.datasets import fetch_openml\n",
    "from category_encoders import TargetEncoder\n",
    "\n",
    "display_cols = [\"Id\", \"MSSubClass\", \"MSZoning\", \"LotFrontage\", \"YearBuilt\", \"Heating\", \"CentralAir\"]"
   ]
  },
  {
   "attachments": {},
   "cell_type": "markdown",
   "metadata": {},
   "source": [
    "# Dataset"
   ]
  },
  {
   "cell_type": "code",
   "execution_count": 2,
   "metadata": {},
   "outputs": [],
   "source": [
    "data = fetch_openml(name=\"house_prices\", as_frame=True, parser=\"auto\")\n",
    "df_pd = data.data[display_cols].copy()\n",
    "df_pd[\"MSZoning2\"] = df_pd[\"MSZoning\"]\n",
    "df_pd[\"target\"] = [1 if x > 200000 else 0 for x in data.target]\n",
    "del data"
   ]
  },
  {
   "cell_type": "code",
   "execution_count": 3,
   "metadata": {},
   "outputs": [],
   "source": [
    "df:pl.DataFrame = pl.from_pandas(df_pd)"
   ]
  },
  {
   "cell_type": "code",
   "execution_count": 4,
   "metadata": {},
   "outputs": [
    {
     "data": {
      "text/html": [
       "<div><style>\n",
       ".dataframe > thead > tr > th,\n",
       ".dataframe > tbody > tr > td {\n",
       "  text-align: right;\n",
       "}\n",
       "</style>\n",
       "<small>shape: (5, 9)</small><table border=\"1\" class=\"dataframe\"><thead><tr><th>Id</th><th>MSSubClass</th><th>MSZoning</th><th>LotFrontage</th><th>YearBuilt</th><th>Heating</th><th>CentralAir</th><th>MSZoning2</th><th>target</th></tr><tr><td>i64</td><td>i64</td><td>str</td><td>f64</td><td>i64</td><td>str</td><td>str</td><td>str</td><td>i64</td></tr></thead><tbody><tr><td>1</td><td>60</td><td>&quot;RL&quot;</td><td>65.0</td><td>2003</td><td>&quot;GasA&quot;</td><td>&quot;Y&quot;</td><td>&quot;RL&quot;</td><td>1</td></tr><tr><td>2</td><td>20</td><td>&quot;RL&quot;</td><td>80.0</td><td>1976</td><td>&quot;GasA&quot;</td><td>&quot;Y&quot;</td><td>&quot;RL&quot;</td><td>0</td></tr><tr><td>3</td><td>60</td><td>&quot;RL&quot;</td><td>68.0</td><td>2001</td><td>&quot;GasA&quot;</td><td>&quot;Y&quot;</td><td>&quot;RL&quot;</td><td>1</td></tr><tr><td>4</td><td>70</td><td>&quot;RL&quot;</td><td>60.0</td><td>1915</td><td>&quot;GasA&quot;</td><td>&quot;Y&quot;</td><td>&quot;RL&quot;</td><td>0</td></tr><tr><td>5</td><td>60</td><td>&quot;RL&quot;</td><td>84.0</td><td>2000</td><td>&quot;GasA&quot;</td><td>&quot;Y&quot;</td><td>&quot;RL&quot;</td><td>1</td></tr></tbody></table></div>"
      ],
      "text/plain": [
       "shape: (5, 9)\n",
       "┌─────┬────────────┬──────────┬─────────────┬───┬─────────┬────────────┬───────────┬────────┐\n",
       "│ Id  ┆ MSSubClass ┆ MSZoning ┆ LotFrontage ┆ … ┆ Heating ┆ CentralAir ┆ MSZoning2 ┆ target │\n",
       "│ --- ┆ ---        ┆ ---      ┆ ---         ┆   ┆ ---     ┆ ---        ┆ ---       ┆ ---    │\n",
       "│ i64 ┆ i64        ┆ str      ┆ f64         ┆   ┆ str     ┆ str        ┆ str       ┆ i64    │\n",
       "╞═════╪════════════╪══════════╪═════════════╪═══╪═════════╪════════════╪═══════════╪════════╡\n",
       "│ 1   ┆ 60         ┆ RL       ┆ 65.0        ┆ … ┆ GasA    ┆ Y          ┆ RL        ┆ 1      │\n",
       "│ 2   ┆ 20         ┆ RL       ┆ 80.0        ┆ … ┆ GasA    ┆ Y          ┆ RL        ┆ 0      │\n",
       "│ 3   ┆ 60         ┆ RL       ┆ 68.0        ┆ … ┆ GasA    ┆ Y          ┆ RL        ┆ 1      │\n",
       "│ 4   ┆ 70         ┆ RL       ┆ 60.0        ┆ … ┆ GasA    ┆ Y          ┆ RL        ┆ 0      │\n",
       "│ 5   ┆ 60         ┆ RL       ┆ 84.0        ┆ … ┆ GasA    ┆ Y          ┆ RL        ┆ 1      │\n",
       "└─────┴────────────┴──────────┴─────────────┴───┴─────────┴────────────┴───────────┴────────┘"
      ]
     },
     "execution_count": 4,
     "metadata": {},
     "output_type": "execute_result"
    }
   ],
   "source": [
    "df.head()"
   ]
  },
  {
   "cell_type": "code",
   "execution_count": 5,
   "metadata": {},
   "outputs": [],
   "source": [
    "to_be_encoded = [\"MSZoning\", 'CentralAir', 'Heating', \"MSZoning2\"]"
   ]
  },
  {
   "attachments": {},
   "cell_type": "markdown",
   "metadata": {},
   "source": [
    "# Target Encoder"
   ]
  },
  {
   "cell_type": "code",
   "execution_count": 6,
   "metadata": {},
   "outputs": [
    {
     "data": {
      "text/html": [
       "<div>\n",
       "<style scoped>\n",
       "    .dataframe tbody tr th:only-of-type {\n",
       "        vertical-align: middle;\n",
       "    }\n",
       "\n",
       "    .dataframe tbody tr th {\n",
       "        vertical-align: top;\n",
       "    }\n",
       "\n",
       "    .dataframe thead th {\n",
       "        text-align: right;\n",
       "    }\n",
       "</style>\n",
       "<table border=\"1\" class=\"dataframe\">\n",
       "  <thead>\n",
       "    <tr style=\"text-align: right;\">\n",
       "      <th></th>\n",
       "      <th>Id</th>\n",
       "      <th>MSSubClass</th>\n",
       "      <th>MSZoning</th>\n",
       "      <th>LotFrontage</th>\n",
       "      <th>YearBuilt</th>\n",
       "      <th>Heating</th>\n",
       "      <th>CentralAir</th>\n",
       "      <th>MSZoning2</th>\n",
       "      <th>target</th>\n",
       "    </tr>\n",
       "  </thead>\n",
       "  <tbody>\n",
       "    <tr>\n",
       "      <th>0</th>\n",
       "      <td>1</td>\n",
       "      <td>60</td>\n",
       "      <td>RL</td>\n",
       "      <td>65.0</td>\n",
       "      <td>2003</td>\n",
       "      <td>GasA</td>\n",
       "      <td>Y</td>\n",
       "      <td>RL</td>\n",
       "      <td>1</td>\n",
       "    </tr>\n",
       "    <tr>\n",
       "      <th>1</th>\n",
       "      <td>2</td>\n",
       "      <td>20</td>\n",
       "      <td>RL</td>\n",
       "      <td>80.0</td>\n",
       "      <td>1976</td>\n",
       "      <td>GasA</td>\n",
       "      <td>Y</td>\n",
       "      <td>RL</td>\n",
       "      <td>0</td>\n",
       "    </tr>\n",
       "    <tr>\n",
       "      <th>2</th>\n",
       "      <td>3</td>\n",
       "      <td>60</td>\n",
       "      <td>RL</td>\n",
       "      <td>68.0</td>\n",
       "      <td>2001</td>\n",
       "      <td>GasA</td>\n",
       "      <td>Y</td>\n",
       "      <td>RL</td>\n",
       "      <td>1</td>\n",
       "    </tr>\n",
       "    <tr>\n",
       "      <th>3</th>\n",
       "      <td>4</td>\n",
       "      <td>70</td>\n",
       "      <td>RL</td>\n",
       "      <td>60.0</td>\n",
       "      <td>1915</td>\n",
       "      <td>GasA</td>\n",
       "      <td>Y</td>\n",
       "      <td>RL</td>\n",
       "      <td>0</td>\n",
       "    </tr>\n",
       "    <tr>\n",
       "      <th>4</th>\n",
       "      <td>5</td>\n",
       "      <td>60</td>\n",
       "      <td>RL</td>\n",
       "      <td>84.0</td>\n",
       "      <td>2000</td>\n",
       "      <td>GasA</td>\n",
       "      <td>Y</td>\n",
       "      <td>RL</td>\n",
       "      <td>1</td>\n",
       "    </tr>\n",
       "    <tr>\n",
       "      <th>...</th>\n",
       "      <td>...</td>\n",
       "      <td>...</td>\n",
       "      <td>...</td>\n",
       "      <td>...</td>\n",
       "      <td>...</td>\n",
       "      <td>...</td>\n",
       "      <td>...</td>\n",
       "      <td>...</td>\n",
       "      <td>...</td>\n",
       "    </tr>\n",
       "    <tr>\n",
       "      <th>1455</th>\n",
       "      <td>1456</td>\n",
       "      <td>60</td>\n",
       "      <td>RL</td>\n",
       "      <td>62.0</td>\n",
       "      <td>1999</td>\n",
       "      <td>GasA</td>\n",
       "      <td>Y</td>\n",
       "      <td>RL</td>\n",
       "      <td>0</td>\n",
       "    </tr>\n",
       "    <tr>\n",
       "      <th>1456</th>\n",
       "      <td>1457</td>\n",
       "      <td>20</td>\n",
       "      <td>RL</td>\n",
       "      <td>85.0</td>\n",
       "      <td>1978</td>\n",
       "      <td>GasA</td>\n",
       "      <td>Y</td>\n",
       "      <td>RL</td>\n",
       "      <td>1</td>\n",
       "    </tr>\n",
       "    <tr>\n",
       "      <th>1457</th>\n",
       "      <td>1458</td>\n",
       "      <td>70</td>\n",
       "      <td>RL</td>\n",
       "      <td>66.0</td>\n",
       "      <td>1941</td>\n",
       "      <td>GasA</td>\n",
       "      <td>Y</td>\n",
       "      <td>RL</td>\n",
       "      <td>1</td>\n",
       "    </tr>\n",
       "    <tr>\n",
       "      <th>1458</th>\n",
       "      <td>1459</td>\n",
       "      <td>20</td>\n",
       "      <td>RL</td>\n",
       "      <td>68.0</td>\n",
       "      <td>1950</td>\n",
       "      <td>GasA</td>\n",
       "      <td>Y</td>\n",
       "      <td>RL</td>\n",
       "      <td>0</td>\n",
       "    </tr>\n",
       "    <tr>\n",
       "      <th>1459</th>\n",
       "      <td>1460</td>\n",
       "      <td>20</td>\n",
       "      <td>RL</td>\n",
       "      <td>75.0</td>\n",
       "      <td>1965</td>\n",
       "      <td>GasA</td>\n",
       "      <td>Y</td>\n",
       "      <td>RL</td>\n",
       "      <td>0</td>\n",
       "    </tr>\n",
       "  </tbody>\n",
       "</table>\n",
       "<p>1460 rows × 9 columns</p>\n",
       "</div>"
      ],
      "text/plain": [
       "        Id  MSSubClass MSZoning  LotFrontage  YearBuilt Heating CentralAir  \\\n",
       "0        1          60       RL         65.0       2003    GasA          Y   \n",
       "1        2          20       RL         80.0       1976    GasA          Y   \n",
       "2        3          60       RL         68.0       2001    GasA          Y   \n",
       "3        4          70       RL         60.0       1915    GasA          Y   \n",
       "4        5          60       RL         84.0       2000    GasA          Y   \n",
       "...    ...         ...      ...          ...        ...     ...        ...   \n",
       "1455  1456          60       RL         62.0       1999    GasA          Y   \n",
       "1456  1457          20       RL         85.0       1978    GasA          Y   \n",
       "1457  1458          70       RL         66.0       1941    GasA          Y   \n",
       "1458  1459          20       RL         68.0       1950    GasA          Y   \n",
       "1459  1460          20       RL         75.0       1965    GasA          Y   \n",
       "\n",
       "     MSZoning2  target  \n",
       "0           RL       1  \n",
       "1           RL       0  \n",
       "2           RL       1  \n",
       "3           RL       0  \n",
       "4           RL       1  \n",
       "...        ...     ...  \n",
       "1455        RL       0  \n",
       "1456        RL       1  \n",
       "1457        RL       1  \n",
       "1458        RL       0  \n",
       "1459        RL       0  \n",
       "\n",
       "[1460 rows x 9 columns]"
      ]
     },
     "execution_count": 6,
     "metadata": {},
     "output_type": "execute_result"
    }
   ],
   "source": [
    "df_pd"
   ]
  },
  {
   "cell_type": "code",
   "execution_count": 7,
   "metadata": {},
   "outputs": [
    {
     "data": {
      "text/html": [
       "<div>\n",
       "<style scoped>\n",
       "    .dataframe tbody tr th:only-of-type {\n",
       "        vertical-align: middle;\n",
       "    }\n",
       "\n",
       "    .dataframe tbody tr th {\n",
       "        vertical-align: top;\n",
       "    }\n",
       "\n",
       "    .dataframe thead th {\n",
       "        text-align: right;\n",
       "    }\n",
       "</style>\n",
       "<table border=\"1\" class=\"dataframe\">\n",
       "  <thead>\n",
       "    <tr style=\"text-align: right;\">\n",
       "      <th></th>\n",
       "      <th>MSZoning</th>\n",
       "      <th>CentralAir</th>\n",
       "      <th>Heating</th>\n",
       "      <th>MSZoning2</th>\n",
       "    </tr>\n",
       "  </thead>\n",
       "  <tbody>\n",
       "    <tr>\n",
       "      <th>1450</th>\n",
       "      <td>0.333623</td>\n",
       "      <td>0.30989</td>\n",
       "      <td>0.294818</td>\n",
       "      <td>0.333623</td>\n",
       "    </tr>\n",
       "    <tr>\n",
       "      <th>1451</th>\n",
       "      <td>0.333623</td>\n",
       "      <td>0.30989</td>\n",
       "      <td>0.294818</td>\n",
       "      <td>0.333623</td>\n",
       "    </tr>\n",
       "    <tr>\n",
       "      <th>1452</th>\n",
       "      <td>0.045872</td>\n",
       "      <td>0.30989</td>\n",
       "      <td>0.294818</td>\n",
       "      <td>0.045872</td>\n",
       "    </tr>\n",
       "    <tr>\n",
       "      <th>1453</th>\n",
       "      <td>0.333623</td>\n",
       "      <td>0.30989</td>\n",
       "      <td>0.294818</td>\n",
       "      <td>0.333623</td>\n",
       "    </tr>\n",
       "    <tr>\n",
       "      <th>1454</th>\n",
       "      <td>0.505328</td>\n",
       "      <td>0.30989</td>\n",
       "      <td>0.294818</td>\n",
       "      <td>0.505328</td>\n",
       "    </tr>\n",
       "    <tr>\n",
       "      <th>1455</th>\n",
       "      <td>0.333623</td>\n",
       "      <td>0.30989</td>\n",
       "      <td>0.294818</td>\n",
       "      <td>0.333623</td>\n",
       "    </tr>\n",
       "    <tr>\n",
       "      <th>1456</th>\n",
       "      <td>0.333623</td>\n",
       "      <td>0.30989</td>\n",
       "      <td>0.294818</td>\n",
       "      <td>0.333623</td>\n",
       "    </tr>\n",
       "    <tr>\n",
       "      <th>1457</th>\n",
       "      <td>0.333623</td>\n",
       "      <td>0.30989</td>\n",
       "      <td>0.294818</td>\n",
       "      <td>0.333623</td>\n",
       "    </tr>\n",
       "    <tr>\n",
       "      <th>1458</th>\n",
       "      <td>0.333623</td>\n",
       "      <td>0.30989</td>\n",
       "      <td>0.294818</td>\n",
       "      <td>0.333623</td>\n",
       "    </tr>\n",
       "    <tr>\n",
       "      <th>1459</th>\n",
       "      <td>0.333623</td>\n",
       "      <td>0.30989</td>\n",
       "      <td>0.294818</td>\n",
       "      <td>0.333623</td>\n",
       "    </tr>\n",
       "  </tbody>\n",
       "</table>\n",
       "</div>"
      ],
      "text/plain": [
       "      MSZoning  CentralAir   Heating  MSZoning2\n",
       "1450  0.333623     0.30989  0.294818   0.333623\n",
       "1451  0.333623     0.30989  0.294818   0.333623\n",
       "1452  0.045872     0.30989  0.294818   0.045872\n",
       "1453  0.333623     0.30989  0.294818   0.333623\n",
       "1454  0.505328     0.30989  0.294818   0.505328\n",
       "1455  0.333623     0.30989  0.294818   0.333623\n",
       "1456  0.333623     0.30989  0.294818   0.333623\n",
       "1457  0.333623     0.30989  0.294818   0.333623\n",
       "1458  0.333623     0.30989  0.294818   0.333623\n",
       "1459  0.333623     0.30989  0.294818   0.333623"
      ]
     },
     "execution_count": 7,
     "metadata": {},
     "output_type": "execute_result"
    }
   ],
   "source": [
    "enc = TargetEncoder(cols=to_be_encoded, min_samples_leaf=20, smoothing=10)\\\n",
    "    .fit(df_pd[to_be_encoded], df_pd[\"target\"])\n",
    "\n",
    "enc.transform(df_pd[to_be_encoded]).tail(10)"
   ]
  },
  {
   "cell_type": "code",
   "execution_count": 8,
   "metadata": {},
   "outputs": [],
   "source": [
    "import sys\n",
    "from dsds.encoders import smooth_target_encode # Currently this only works for binary target"
   ]
  },
  {
   "cell_type": "code",
   "execution_count": 9,
   "metadata": {},
   "outputs": [],
   "source": [
    "df_transf = smooth_target_encode(df, cols=to_be_encoded\n",
    "            , target=\"target\"\n",
    "            , smoothing=10\n",
    "            , min_samples_leaf=20)"
   ]
  },
  {
   "cell_type": "code",
   "execution_count": 10,
   "metadata": {},
   "outputs": [
    {
     "data": {
      "text/html": [
       "<div><style>\n",
       ".dataframe > thead > tr > th,\n",
       ".dataframe > tbody > tr > td {\n",
       "  text-align: right;\n",
       "}\n",
       "</style>\n",
       "<small>shape: (5, 9)</small><table border=\"1\" class=\"dataframe\"><thead><tr><th>Id</th><th>MSSubClass</th><th>MSZoning</th><th>LotFrontage</th><th>YearBuilt</th><th>Heating</th><th>CentralAir</th><th>MSZoning2</th><th>target</th></tr><tr><td>i64</td><td>i64</td><td>f64</td><td>f64</td><td>i64</td><td>f64</td><td>f64</td><td>f64</td><td>i64</td></tr></thead><tbody><tr><td>1</td><td>60</td><td>0.333623</td><td>65.0</td><td>2003</td><td>0.294818</td><td>0.30989</td><td>0.333623</td><td>1</td></tr><tr><td>2</td><td>20</td><td>0.333623</td><td>80.0</td><td>1976</td><td>0.294818</td><td>0.30989</td><td>0.333623</td><td>0</td></tr><tr><td>3</td><td>60</td><td>0.333623</td><td>68.0</td><td>2001</td><td>0.294818</td><td>0.30989</td><td>0.333623</td><td>1</td></tr><tr><td>4</td><td>70</td><td>0.333623</td><td>60.0</td><td>1915</td><td>0.294818</td><td>0.30989</td><td>0.333623</td><td>0</td></tr><tr><td>5</td><td>60</td><td>0.333623</td><td>84.0</td><td>2000</td><td>0.294818</td><td>0.30989</td><td>0.333623</td><td>1</td></tr></tbody></table></div>"
      ],
      "text/plain": [
       "shape: (5, 9)\n",
       "┌─────┬────────────┬──────────┬─────────────┬───┬──────────┬────────────┬───────────┬────────┐\n",
       "│ Id  ┆ MSSubClass ┆ MSZoning ┆ LotFrontage ┆ … ┆ Heating  ┆ CentralAir ┆ MSZoning2 ┆ target │\n",
       "│ --- ┆ ---        ┆ ---      ┆ ---         ┆   ┆ ---      ┆ ---        ┆ ---       ┆ ---    │\n",
       "│ i64 ┆ i64        ┆ f64      ┆ f64         ┆   ┆ f64      ┆ f64        ┆ f64       ┆ i64    │\n",
       "╞═════╪════════════╪══════════╪═════════════╪═══╪══════════╪════════════╪═══════════╪════════╡\n",
       "│ 1   ┆ 60         ┆ 0.333623 ┆ 65.0        ┆ … ┆ 0.294818 ┆ 0.30989    ┆ 0.333623  ┆ 1      │\n",
       "│ 2   ┆ 20         ┆ 0.333623 ┆ 80.0        ┆ … ┆ 0.294818 ┆ 0.30989    ┆ 0.333623  ┆ 0      │\n",
       "│ 3   ┆ 60         ┆ 0.333623 ┆ 68.0        ┆ … ┆ 0.294818 ┆ 0.30989    ┆ 0.333623  ┆ 1      │\n",
       "│ 4   ┆ 70         ┆ 0.333623 ┆ 60.0        ┆ … ┆ 0.294818 ┆ 0.30989    ┆ 0.333623  ┆ 0      │\n",
       "│ 5   ┆ 60         ┆ 0.333623 ┆ 84.0        ┆ … ┆ 0.294818 ┆ 0.30989    ┆ 0.333623  ┆ 1      │\n",
       "└─────┴────────────┴──────────┴─────────────┴───┴──────────┴────────────┴───────────┴────────┘"
      ]
     },
     "execution_count": 10,
     "metadata": {},
     "output_type": "execute_result"
    }
   ],
   "source": [
    "df_transf.head()"
   ]
  },
  {
   "cell_type": "code",
   "execution_count": 11,
   "metadata": {},
   "outputs": [
    {
     "data": {
      "text/plain": [
       "True"
      ]
     },
     "execution_count": 11,
     "metadata": {},
     "output_type": "execute_result"
    }
   ],
   "source": [
    "df_transf[to_be_encoded].frame_equal(pl.from_pandas(enc.transform(df_pd[to_be_encoded])))"
   ]
  },
  {
   "attachments": {},
   "cell_type": "markdown",
   "metadata": {},
   "source": [
    "# WOE Encoder"
   ]
  },
  {
   "cell_type": "code",
   "execution_count": 12,
   "metadata": {},
   "outputs": [],
   "source": [
    "from dsds.encoders import woe_cat_encode\n",
    "from category_encoders import WOEEncoder"
   ]
  },
  {
   "cell_type": "code",
   "execution_count": 13,
   "metadata": {},
   "outputs": [
    {
     "data": {
      "text/html": [
       "<div><style>\n",
       ".dataframe > thead > tr > th,\n",
       ".dataframe > tbody > tr > td {\n",
       "  text-align: right;\n",
       "}\n",
       "</style>\n",
       "<small>shape: (5, 9)</small><table border=\"1\" class=\"dataframe\"><thead><tr><th>Id</th><th>MSSubClass</th><th>MSZoning</th><th>LotFrontage</th><th>YearBuilt</th><th>Heating</th><th>CentralAir</th><th>MSZoning2</th><th>target</th></tr><tr><td>i64</td><td>i64</td><td>f64</td><td>f64</td><td>i64</td><td>f64</td><td>f64</td><td>f64</td><td>i64</td></tr></thead><tbody><tr><td>1</td><td>60</td><td>0.190153</td><td>65.0</td><td>2003</td><td>0.009982</td><td>0.081367</td><td>0.190153</td><td>1</td></tr><tr><td>2</td><td>20</td><td>0.190153</td><td>80.0</td><td>1976</td><td>0.009982</td><td>0.081367</td><td>0.190153</td><td>0</td></tr><tr><td>3</td><td>60</td><td>0.190153</td><td>68.0</td><td>2001</td><td>0.009982</td><td>0.081367</td><td>0.190153</td><td>1</td></tr><tr><td>4</td><td>70</td><td>0.190153</td><td>60.0</td><td>1915</td><td>0.009982</td><td>0.081367</td><td>0.190153</td><td>0</td></tr><tr><td>5</td><td>60</td><td>0.190153</td><td>84.0</td><td>2000</td><td>0.009982</td><td>0.081367</td><td>0.190153</td><td>1</td></tr></tbody></table></div>"
      ],
      "text/plain": [
       "shape: (5, 9)\n",
       "┌─────┬────────────┬──────────┬─────────────┬───┬──────────┬────────────┬───────────┬────────┐\n",
       "│ Id  ┆ MSSubClass ┆ MSZoning ┆ LotFrontage ┆ … ┆ Heating  ┆ CentralAir ┆ MSZoning2 ┆ target │\n",
       "│ --- ┆ ---        ┆ ---      ┆ ---         ┆   ┆ ---      ┆ ---        ┆ ---       ┆ ---    │\n",
       "│ i64 ┆ i64        ┆ f64      ┆ f64         ┆   ┆ f64      ┆ f64        ┆ f64       ┆ i64    │\n",
       "╞═════╪════════════╪══════════╪═════════════╪═══╪══════════╪════════════╪═══════════╪════════╡\n",
       "│ 1   ┆ 60         ┆ 0.190153 ┆ 65.0        ┆ … ┆ 0.009982 ┆ 0.081367   ┆ 0.190153  ┆ 1      │\n",
       "│ 2   ┆ 20         ┆ 0.190153 ┆ 80.0        ┆ … ┆ 0.009982 ┆ 0.081367   ┆ 0.190153  ┆ 0      │\n",
       "│ 3   ┆ 60         ┆ 0.190153 ┆ 68.0        ┆ … ┆ 0.009982 ┆ 0.081367   ┆ 0.190153  ┆ 1      │\n",
       "│ 4   ┆ 70         ┆ 0.190153 ┆ 60.0        ┆ … ┆ 0.009982 ┆ 0.081367   ┆ 0.190153  ┆ 0      │\n",
       "│ 5   ┆ 60         ┆ 0.190153 ┆ 84.0        ┆ … ┆ 0.009982 ┆ 0.081367   ┆ 0.190153  ┆ 1      │\n",
       "└─────┴────────────┴──────────┴─────────────┴───┴──────────┴────────────┴───────────┴────────┘"
      ]
     },
     "execution_count": 13,
     "metadata": {},
     "output_type": "execute_result"
    }
   ],
   "source": [
    "woe_cat_encode(df, \"target\", to_be_encoded).head()"
   ]
  },
  {
   "cell_type": "code",
   "execution_count": 14,
   "metadata": {},
   "outputs": [
    {
     "data": {
      "text/html": [
       "<div>\n",
       "<style scoped>\n",
       "    .dataframe tbody tr th:only-of-type {\n",
       "        vertical-align: middle;\n",
       "    }\n",
       "\n",
       "    .dataframe tbody tr th {\n",
       "        vertical-align: top;\n",
       "    }\n",
       "\n",
       "    .dataframe thead th {\n",
       "        text-align: right;\n",
       "    }\n",
       "</style>\n",
       "<table border=\"1\" class=\"dataframe\">\n",
       "  <thead>\n",
       "    <tr style=\"text-align: right;\">\n",
       "      <th></th>\n",
       "      <th>Id</th>\n",
       "      <th>MSSubClass</th>\n",
       "      <th>MSZoning</th>\n",
       "      <th>LotFrontage</th>\n",
       "      <th>YearBuilt</th>\n",
       "      <th>Heating</th>\n",
       "      <th>CentralAir</th>\n",
       "      <th>MSZoning2</th>\n",
       "      <th>target</th>\n",
       "    </tr>\n",
       "  </thead>\n",
       "  <tbody>\n",
       "    <tr>\n",
       "      <th>0</th>\n",
       "      <td>1</td>\n",
       "      <td>60</td>\n",
       "      <td>0.190153</td>\n",
       "      <td>65.0</td>\n",
       "      <td>2003</td>\n",
       "      <td>0.009982</td>\n",
       "      <td>0.081367</td>\n",
       "      <td>0.190153</td>\n",
       "      <td>1</td>\n",
       "    </tr>\n",
       "    <tr>\n",
       "      <th>1</th>\n",
       "      <td>2</td>\n",
       "      <td>20</td>\n",
       "      <td>0.190153</td>\n",
       "      <td>80.0</td>\n",
       "      <td>1976</td>\n",
       "      <td>0.009982</td>\n",
       "      <td>0.081367</td>\n",
       "      <td>0.190153</td>\n",
       "      <td>0</td>\n",
       "    </tr>\n",
       "    <tr>\n",
       "      <th>2</th>\n",
       "      <td>3</td>\n",
       "      <td>60</td>\n",
       "      <td>0.190153</td>\n",
       "      <td>68.0</td>\n",
       "      <td>2001</td>\n",
       "      <td>0.009982</td>\n",
       "      <td>0.081367</td>\n",
       "      <td>0.190153</td>\n",
       "      <td>1</td>\n",
       "    </tr>\n",
       "    <tr>\n",
       "      <th>3</th>\n",
       "      <td>4</td>\n",
       "      <td>70</td>\n",
       "      <td>0.190153</td>\n",
       "      <td>60.0</td>\n",
       "      <td>1915</td>\n",
       "      <td>0.009982</td>\n",
       "      <td>0.081367</td>\n",
       "      <td>0.190153</td>\n",
       "      <td>0</td>\n",
       "    </tr>\n",
       "    <tr>\n",
       "      <th>4</th>\n",
       "      <td>5</td>\n",
       "      <td>60</td>\n",
       "      <td>0.190153</td>\n",
       "      <td>84.0</td>\n",
       "      <td>2000</td>\n",
       "      <td>0.009982</td>\n",
       "      <td>0.081367</td>\n",
       "      <td>0.190153</td>\n",
       "      <td>1</td>\n",
       "    </tr>\n",
       "    <tr>\n",
       "      <th>...</th>\n",
       "      <td>...</td>\n",
       "      <td>...</td>\n",
       "      <td>...</td>\n",
       "      <td>...</td>\n",
       "      <td>...</td>\n",
       "      <td>...</td>\n",
       "      <td>...</td>\n",
       "      <td>...</td>\n",
       "      <td>...</td>\n",
       "    </tr>\n",
       "    <tr>\n",
       "      <th>1455</th>\n",
       "      <td>1456</td>\n",
       "      <td>60</td>\n",
       "      <td>0.190153</td>\n",
       "      <td>62.0</td>\n",
       "      <td>1999</td>\n",
       "      <td>0.009982</td>\n",
       "      <td>0.081367</td>\n",
       "      <td>0.190153</td>\n",
       "      <td>0</td>\n",
       "    </tr>\n",
       "    <tr>\n",
       "      <th>1456</th>\n",
       "      <td>1457</td>\n",
       "      <td>20</td>\n",
       "      <td>0.190153</td>\n",
       "      <td>85.0</td>\n",
       "      <td>1978</td>\n",
       "      <td>0.009982</td>\n",
       "      <td>0.081367</td>\n",
       "      <td>0.190153</td>\n",
       "      <td>1</td>\n",
       "    </tr>\n",
       "    <tr>\n",
       "      <th>1457</th>\n",
       "      <td>1458</td>\n",
       "      <td>70</td>\n",
       "      <td>0.190153</td>\n",
       "      <td>66.0</td>\n",
       "      <td>1941</td>\n",
       "      <td>0.009982</td>\n",
       "      <td>0.081367</td>\n",
       "      <td>0.190153</td>\n",
       "      <td>1</td>\n",
       "    </tr>\n",
       "    <tr>\n",
       "      <th>1458</th>\n",
       "      <td>1459</td>\n",
       "      <td>20</td>\n",
       "      <td>0.190153</td>\n",
       "      <td>68.0</td>\n",
       "      <td>1950</td>\n",
       "      <td>0.009982</td>\n",
       "      <td>0.081367</td>\n",
       "      <td>0.190153</td>\n",
       "      <td>0</td>\n",
       "    </tr>\n",
       "    <tr>\n",
       "      <th>1459</th>\n",
       "      <td>1460</td>\n",
       "      <td>20</td>\n",
       "      <td>0.190153</td>\n",
       "      <td>75.0</td>\n",
       "      <td>1965</td>\n",
       "      <td>0.009982</td>\n",
       "      <td>0.081367</td>\n",
       "      <td>0.190153</td>\n",
       "      <td>0</td>\n",
       "    </tr>\n",
       "  </tbody>\n",
       "</table>\n",
       "<p>1460 rows × 9 columns</p>\n",
       "</div>"
      ],
      "text/plain": [
       "        Id  MSSubClass  MSZoning  LotFrontage  YearBuilt   Heating  \\\n",
       "0        1          60  0.190153         65.0       2003  0.009982   \n",
       "1        2          20  0.190153         80.0       1976  0.009982   \n",
       "2        3          60  0.190153         68.0       2001  0.009982   \n",
       "3        4          70  0.190153         60.0       1915  0.009982   \n",
       "4        5          60  0.190153         84.0       2000  0.009982   \n",
       "...    ...         ...       ...          ...        ...       ...   \n",
       "1455  1456          60  0.190153         62.0       1999  0.009982   \n",
       "1456  1457          20  0.190153         85.0       1978  0.009982   \n",
       "1457  1458          70  0.190153         66.0       1941  0.009982   \n",
       "1458  1459          20  0.190153         68.0       1950  0.009982   \n",
       "1459  1460          20  0.190153         75.0       1965  0.009982   \n",
       "\n",
       "      CentralAir  MSZoning2  target  \n",
       "0       0.081367   0.190153       1  \n",
       "1       0.081367   0.190153       0  \n",
       "2       0.081367   0.190153       1  \n",
       "3       0.081367   0.190153       0  \n",
       "4       0.081367   0.190153       1  \n",
       "...          ...        ...     ...  \n",
       "1455    0.081367   0.190153       0  \n",
       "1456    0.081367   0.190153       1  \n",
       "1457    0.081367   0.190153       1  \n",
       "1458    0.081367   0.190153       0  \n",
       "1459    0.081367   0.190153       0  \n",
       "\n",
       "[1460 rows x 9 columns]"
      ]
     },
     "execution_count": 14,
     "metadata": {},
     "output_type": "execute_result"
    }
   ],
   "source": [
    "woe = WOEEncoder(cols=to_be_encoded)\n",
    "woe.fit_transform(X=df_pd, y=df_pd[\"target\"])"
   ]
  },
  {
   "attachments": {},
   "cell_type": "markdown",
   "metadata": {},
   "source": [
    "# Time Comparison\n",
    "\n",
    "All benchmarks here may not be representative. On Linux, dsds will win by a large margin in all cases no matter the size of the dataframe. On windows, on smaller datasets, \n",
    "dsds is a bit slower, but beats other implementations on bigger datasets. It is potentially caused by some Polars issue on Windows. We are investigating this."
   ]
  },
  {
   "cell_type": "code",
   "execution_count": 15,
   "metadata": {},
   "outputs": [
    {
     "name": "stdout",
     "output_type": "stream",
     "text": [
      "26.5 ms ± 801 µs per loop (mean ± std. dev. of 7 runs, 10 loops each)\n"
     ]
    }
   ],
   "source": [
    "%%timeit\n",
    "woe = WOEEncoder(cols=to_be_encoded)\n",
    "woe.fit_transform(X=df_pd, y=df_pd[\"target\"])"
   ]
  },
  {
   "cell_type": "code",
   "execution_count": 16,
   "metadata": {},
   "outputs": [
    {
     "name": "stdout",
     "output_type": "stream",
     "text": [
      "72.5 ms ± 2.05 ms per loop (mean ± std. dev. of 7 runs, 10 loops each)\n"
     ]
    }
   ],
   "source": [
    "%%timeit \n",
    "woe_cat_encode(df, \"target\", to_be_encoded) # Take this with grain of salt, as this is done on Windows"
   ]
  },
  {
   "cell_type": "code",
   "execution_count": 17,
   "metadata": {},
   "outputs": [
    {
     "name": "stdout",
     "output_type": "stream",
     "text": [
      "24.5 ms ± 605 µs per loop (mean ± std. dev. of 7 runs, 10 loops each)\n"
     ]
    }
   ],
   "source": [
    "%%timeit \n",
    "\n",
    "enc = TargetEncoder(cols=to_be_encoded, min_samples_leaf=20, smoothing=10)\\\n",
    "    .fit(df_pd[to_be_encoded], df_pd[\"target\"])\n",
    "\n",
    "enc.transform(df_pd[to_be_encoded])"
   ]
  },
  {
   "cell_type": "code",
   "execution_count": 18,
   "metadata": {},
   "outputs": [
    {
     "name": "stdout",
     "output_type": "stream",
     "text": [
      "72.1 ms ± 4.49 ms per loop (mean ± std. dev. of 7 runs, 10 loops each)\n"
     ]
    }
   ],
   "source": [
    "%%timeit \n",
    "smooth_target_encode(df, cols=to_be_encoded\n",
    "                     , target=\"target\"\n",
    "                     , smoothing=10\n",
    "                     , min_samples_leaf=20\n",
    "                     , check_binary = False) # Take this with grain of salt, as this is done on Windows"
   ]
  },
  {
   "cell_type": "code",
   "execution_count": 19,
   "metadata": {},
   "outputs": [],
   "source": [
    "# let's test it on bigger, more realistic data set size"
   ]
  },
  {
   "cell_type": "code",
   "execution_count": 20,
   "metadata": {},
   "outputs": [
    {
     "data": {
      "text/plain": [
       "(73000, 9)"
      ]
     },
     "execution_count": 20,
     "metadata": {},
     "output_type": "execute_result"
    }
   ],
   "source": [
    "df_pd_bigger = pd.concat([df_pd.copy()]*50)\n",
    "df_pd_bigger.shape"
   ]
  },
  {
   "cell_type": "code",
   "execution_count": 21,
   "metadata": {},
   "outputs": [
    {
     "data": {
      "text/plain": [
       "(73000, 9)"
      ]
     },
     "execution_count": 21,
     "metadata": {},
     "output_type": "execute_result"
    }
   ],
   "source": [
    "df_pl = pl.from_pandas(df_pd_bigger)\n",
    "df_pl.shape "
   ]
  },
  {
   "cell_type": "code",
   "execution_count": 22,
   "metadata": {},
   "outputs": [
    {
     "name": "stdout",
     "output_type": "stream",
     "text": [
      "207 ms ± 3.09 ms per loop (mean ± std. dev. of 7 runs, 1 loop each)\n"
     ]
    }
   ],
   "source": [
    "%%timeit \n",
    "\n",
    "enc = TargetEncoder(cols=to_be_encoded, min_samples_leaf=20, smoothing=10)\\\n",
    "    .fit(df_pd_bigger[to_be_encoded], df_pd_bigger[\"target\"])\n",
    "\n",
    "enc.transform(df_pd_bigger[to_be_encoded])"
   ]
  },
  {
   "cell_type": "code",
   "execution_count": 23,
   "metadata": {},
   "outputs": [
    {
     "name": "stdout",
     "output_type": "stream",
     "text": [
      "79.2 ms ± 2.21 ms per loop (mean ± std. dev. of 7 runs, 10 loops each)\n"
     ]
    }
   ],
   "source": [
    "%%timeit \n",
    "woe_cat_encode(df_pl, \"target\", to_be_encoded)"
   ]
  },
  {
   "cell_type": "code",
   "execution_count": 24,
   "metadata": {},
   "outputs": [
    {
     "name": "stdout",
     "output_type": "stream",
     "text": [
      "203 ms ± 9.57 ms per loop (mean ± std. dev. of 7 runs, 1 loop each)\n"
     ]
    }
   ],
   "source": [
    "%%timeit \n",
    "\n",
    "enc = TargetEncoder(cols=to_be_encoded, min_samples_leaf=20, smoothing=10)\\\n",
    "    .fit(df_pd_bigger[to_be_encoded], df_pd_bigger[\"target\"])\n",
    "\n",
    "enc.transform(df_pd_bigger[to_be_encoded])[to_be_encoded]"
   ]
  },
  {
   "cell_type": "code",
   "execution_count": 25,
   "metadata": {},
   "outputs": [
    {
     "name": "stdout",
     "output_type": "stream",
     "text": [
      "83.3 ms ± 2.21 ms per loop (mean ± std. dev. of 7 runs, 10 loops each)\n"
     ]
    }
   ],
   "source": [
    "%%timeit \n",
    "smooth_target_encode(df_pl, cols=to_be_encoded\n",
    "                     , target=\"target\"\n",
    "                     , smoothing=10\n",
    "                     , min_samples_leaf=20\n",
    "                     , check_binary = False)"
   ]
  },
  {
   "cell_type": "code",
   "execution_count": 26,
   "metadata": {},
   "outputs": [],
   "source": [
    "# On bigger datasets, this is much faster\n",
    "# I don't know why but on Windows, the performance sacles strangely...\n",
    "# woe_cat_encode went from 72.5ms to 79.2ms when df becomes 50 times bigger...\n",
    "# This doesn't happen when I test on Linux."
   ]
  }
 ],
 "metadata": {
  "kernelspec": {
   "display_name": "my_py11",
   "language": "python",
   "name": "python3"
  },
  "language_info": {
   "codemirror_mode": {
    "name": "ipython",
    "version": 3
   },
   "file_extension": ".py",
   "mimetype": "text/x-python",
   "name": "python",
   "nbconvert_exporter": "python",
   "pygments_lexer": "ipython3",
   "version": "3.9.17"
  },
  "orig_nbformat": 4
 },
 "nbformat": 4,
 "nbformat_minor": 2
}
