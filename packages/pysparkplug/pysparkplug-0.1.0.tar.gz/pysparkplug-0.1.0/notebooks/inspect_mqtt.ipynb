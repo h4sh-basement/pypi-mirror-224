{
 "cells": [
  {
   "cell_type": "code",
   "execution_count": null,
   "id": "b3267489-0544-4620-b8eb-c1eb8a91c98b",
   "metadata": {
    "tags": []
   },
   "outputs": [
    {
     "name": "stdout",
     "output_type": "stream",
     "text": [
      "From spBv1.0/my_group/DCMD/my_edge_node/my_device (QoS=0, retain=0):\n",
      "  DCmd(timestamp=1690378628005, metrics=(Metric(timestamp=1690378628004, name='my_metric', datatype=<DataType.DOUBLE: 10>, value=1.1, alias=None, is_historical=False, is_transient=False, is_null=False),))\n"
     ]
    }
   ],
   "source": [
    "import textwrap\n",
    "\n",
    "import pysparkplug as psp\n",
    "\n",
    "\n",
    "def callback(client: psp.Client, message: psp.Message) -> None:\n",
    "    print(f\"From {message.topic} (QoS={message.qos}, retain={message.retain}):\")\n",
    "    if isinstance(message.payload, (psp.DBirth, psp.NBirth, psp.NData, psp.DData)):\n",
    "        for metric in message.payload.metrics:\n",
    "            print(textwrap.indent(str(metric), \"  \"))\n",
    "    else:\n",
    "        print(textwrap.indent(str(message.payload), \"  \"))\n",
    "\n",
    "\n",
    "client = psp.Client(client_id=\"Listening client\")\n",
    "client.subscribe(psp.Topic(\"#\"), psp.QoS.AT_LEAST_ONCE, callback)\n",
    "client.connect(\"emqx\", blocking=True)"
   ]
  }
 ],
 "metadata": {
  "kernelspec": {
   "display_name": "Python 3 (ipykernel)",
   "language": "python",
   "name": "python3"
  },
  "language_info": {
   "codemirror_mode": {
    "name": "ipython",
    "version": 3
   },
   "file_extension": ".py",
   "mimetype": "text/x-python",
   "name": "python",
   "nbconvert_exporter": "python",
   "pygments_lexer": "ipython3",
   "version": "3.10.11"
  }
 },
 "nbformat": 4,
 "nbformat_minor": 5
}
