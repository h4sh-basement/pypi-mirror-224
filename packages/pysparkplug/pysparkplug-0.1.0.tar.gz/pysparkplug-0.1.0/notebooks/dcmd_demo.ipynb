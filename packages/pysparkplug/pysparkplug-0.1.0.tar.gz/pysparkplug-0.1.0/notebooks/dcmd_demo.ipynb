{
 "cells": [
  {
   "cell_type": "code",
   "execution_count": 1,
   "id": "808f4138-328a-4bac-839f-bec4becf1edd",
   "metadata": {
    "tags": []
   },
   "outputs": [],
   "source": [
    "import pysparkplug as psp\n",
    "\n",
    "\n",
    "host = \"emqx\"\n",
    "port = 1883\n",
    "username = \"\"\n",
    "password = \"\"\n",
    "\n",
    "client = psp.Client(\n",
    "    username=username,\n",
    "    password=password,\n",
    ")\n",
    "\n",
    "client.connect(\n",
    "    host,\n",
    "    port=port,\n",
    "    blocking=False,\n",
    ")"
   ]
  },
  {
   "cell_type": "code",
   "execution_count": 2,
   "id": "fa6b1285-8462-479c-a535-7c31e76dfed1",
   "metadata": {
    "tags": []
   },
   "outputs": [],
   "source": [
    "group_id = \"Fab\"\n",
    "edge_node_id = \"Opto3 Edge Node\"\n",
    "device_id = \"LIQUID\"\n",
    "name = \"CM_FEED/Auto_FlowSP\"\n",
    "value = 1.1\n",
    "\n",
    "metrics = (\n",
    "    psp.Metric(timestamp=psp.get_current_timestamp(), name=name, datatype=psp.DataType.DOUBLE, value=value),\n",
    ")\n",
    "payload = psp.DCmd(timestamp=psp.get_current_timestamp(), metrics=metrics)\n",
    "\n",
    "topic = psp.Topic(\n",
    "    message_type=psp.MessageType.DCMD,\n",
    "    group_id=group_id,\n",
    "    edge_node_id=edge_node_id,\n",
    "    device_id=device_id,\n",
    ")"
   ]
  },
  {
   "cell_type": "code",
   "execution_count": 3,
   "id": "9ef61b7d-c46c-4ff4-99c4-9ec2493a08e2",
   "metadata": {
    "tags": []
   },
   "outputs": [],
   "source": [
    "client.publish(\n",
    "    psp.Message(\n",
    "        topic=topic,\n",
    "        payload=payload,\n",
    "        qos=psp.QoS.AT_MOST_ONCE,\n",
    "        retain=False,\n",
    "    ),\n",
    "    include_dtypes=True,\n",
    ")"
   ]
  }
 ],
 "metadata": {
  "kernelspec": {
   "display_name": "Python 3 (ipykernel)",
   "language": "python",
   "name": "python3"
  },
  "language_info": {
   "codemirror_mode": {
    "name": "ipython",
    "version": 3
   },
   "file_extension": ".py",
   "mimetype": "text/x-python",
   "name": "python",
   "nbconvert_exporter": "python",
   "pygments_lexer": "ipython3",
   "version": "3.10.11"
  }
 },
 "nbformat": 4,
 "nbformat_minor": 5
}
