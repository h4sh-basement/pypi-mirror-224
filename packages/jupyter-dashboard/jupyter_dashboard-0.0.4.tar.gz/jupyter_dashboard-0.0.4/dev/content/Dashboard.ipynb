{
 "cells": [
  {
   "cell_type": "markdown",
   "metadata": {
    "presto": {
     "id": "8f3a7c19-2601-410d-aaee-c0509b49502b"
    }
   },
   "source": [
    "# Dashboard Example"
   ]
  },
  {
   "cell_type": "code",
   "execution_count": 1,
   "metadata": {
    "presto": {
     "id": "9f2ad7ff-ad83-47c6-9ad7-39d95c60095e"
    }
   },
   "outputs": [
    {
     "data": {
      "text/plain": [
       "2"
      ]
     },
     "execution_count": 1,
     "metadata": {},
     "output_type": "execute_result"
    }
   ],
   "source": [
    "1+1"
   ]
  },
  {
   "cell_type": "code",
   "execution_count": 1,
   "metadata": {
    "presto": {
     "id": "7627ee83-3f6c-4fb5-a96a-16cbc5ac33a0"
    }
   },
   "outputs": [
    {
     "data": {
      "application/vnd.jupyter.widget-view+json": {
       "model_id": "865f6920d448462db86747e5fdf709b0",
       "version_major": 2,
       "version_minor": 0
      },
      "text/plain": [
       "IntRangeSlider(value=(25, 75))"
      ]
     },
     "execution_count": 1,
     "metadata": {},
     "output_type": "execute_result"
    }
   ],
   "source": [
    "import ipywidgets\n",
    "ipywidgets.IntRangeSlider()"
   ]
  },
  {
   "cell_type": "code",
   "execution_count": null,
   "metadata": {},
   "outputs": [],
   "source": []
  }
 ],
 "metadata": {
  "kernelspec": {
   "display_name": "Python 3 (ipykernel)",
   "language": "python",
   "name": "python3"
  },
  "language_info": {
   "codemirror_mode": {
    "name": "ipython",
    "version": 3
   },
   "file_extension": ".py",
   "mimetype": "text/x-python",
   "name": "python",
   "nbconvert_exporter": "python",
   "pygments_lexer": "ipython3",
   "version": "3.11.4"
  },
  "presto": {
   "id": "2e121961-067c-46d7-a5c1-41b094669679"
  },
  "widgets": {
   "application/vnd.jupyter.widget-state+json": {
    "state": {
     "490ad6689a1f484ea572de997e347421": {
      "model_module": "@jupyter-widgets/base",
      "model_module_version": "2.0.0",
      "model_name": "LayoutModel",
      "state": {}
     },
     "799c2bde729c4566ad7ec5e8fa182b53": {
      "model_module": "@jupyter-widgets/controls",
      "model_module_version": "2.0.0",
      "model_name": "SliderStyleModel",
      "state": {
       "description_width": ""
      }
     },
     "865f6920d448462db86747e5fdf709b0": {
      "model_module": "@jupyter-widgets/controls",
      "model_module_version": "2.0.0",
      "model_name": "IntRangeSliderModel",
      "state": {
       "_model_name": "IntRangeSliderModel",
       "_view_name": "IntRangeSliderView",
       "behavior": "drag-tap",
       "layout": "IPY_MODEL_490ad6689a1f484ea572de997e347421",
       "style": "IPY_MODEL_799c2bde729c4566ad7ec5e8fa182b53",
       "value": [
        25,
        78
       ]
      }
     }
    },
    "version_major": 2,
    "version_minor": 0
   }
  }
 },
 "nbformat": 4,
 "nbformat_minor": 4
}
